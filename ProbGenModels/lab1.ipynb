{
 "cells": [
  {
   "cell_type": "code",
   "execution_count": 1,
   "metadata": {},
   "outputs": [],
   "source": [
    "import pandas as pd"
   ]
  },
  {
   "cell_type": "code",
   "execution_count": 2,
   "metadata": {},
   "outputs": [],
   "source": [
    "df = pd.read_excel('data_bn.xlsx')"
   ]
  },
  {
   "cell_type": "code",
   "execution_count": 12,
   "metadata": {},
   "outputs": [
    {
     "name": "stdout",
     "output_type": "stream",
     "text": [
      "['adult' 'old' 'young']\n",
      "['low' 'high' 'medium']\n",
      "['south/islands' 'centre' 'north']\n"
     ]
    }
   ],
   "source": [
    "\n",
    "#process it\n",
    "#display unique values for age, urbanization, geographic area\n",
    "print(df['age'].unique())\n",
    "print(df['urbanization'].unique())\n",
    "print(df['geographic_area'].unique())\n",
    "\n",
    "#rename sex to 'female'\n",
    "df.rename({\"sex\" : 'female'}, axis=1, inplace=True)\n",
    "\n",
    "# change female to yes and male to no\n",
    "df['female'] = df['female'].replace({\"female\" : \"yes\", \"male\" : \"no\"})\n",
    "\n",
    "#one hot encode age, urbanization, geographic area from df\n",
    "df['adult'] = df['age'].apply(lambda x: \"yes\" if x == 'adult' else \"no\")\n",
    "df['old'] = df['age'].apply(lambda x: \"yes\" if x == 'old' else \"no\")\n",
    "df['young'] = df['age'].apply(lambda x: \"yes\" if x == 'young' else \"no\")\n",
    "#drop age column\n",
    "df.drop('age', axis=1, inplace=True)\n",
    "#one hot encode urbanization\n",
    "df['low'] = df['urbanization'].apply(lambda x: \"yes\" if x == 'low' else \"no\")\n",
    "df['medium'] = df['urbanization'].apply(lambda x: \"yes\" if x == 'medium' else \"no\")\n",
    "df['high'] = df['urbanization'].apply(lambda x: \"yes\" if x == 'high' else \"no\")\n",
    "#drop urbanization column\n",
    "df.drop('urbanization', axis=1, inplace=True)\n",
    "#one hot encode geographic area\n",
    "df['south/islands'] = df['geographic_area'].apply(lambda x: \"yes\" if x == 'south/islands' else \"no\")\n",
    "df['north'] = df['geographic_area'].apply(lambda x: \"yes\" if x == 'north' else \"no\")\n",
    "df['centre'] = df['geographic_area'].apply(lambda x: \"yes\" if x == 'centre' else \"no\")\n",
    "#drop geographic area column\n",
    "df.drop('geographic_area', axis=1, inplace=True)\n",
    "\n",
    "#rename sex to 'female'\n",
    "df.rename({\"education\" : 'education_high'}, axis=1, inplace=True)\n",
    "\n",
    "# change female to yes and male to no\n",
    "df['education_high'] = df['education_high'].replace({\"high\" : \"yes\", \"low\" : \"no\"})"
   ]
  },
  {
   "cell_type": "code",
   "execution_count": 13,
   "metadata": {},
   "outputs": [
    {
     "data": {
      "text/plain": [
       "Index(['female', 'education_high', 'allergy', 'smoke', 'sedentary', 'asthma',\n",
       "       'adult', 'old', 'young', 'low', 'medium', 'high', 'south/islands',\n",
       "       'north', 'centre'],\n",
       "      dtype='object')"
      ]
     },
     "execution_count": 13,
     "metadata": {},
     "output_type": "execute_result"
    }
   ],
   "source": [
    "df.columns"
   ]
  },
  {
   "cell_type": "code",
   "execution_count": 14,
   "metadata": {},
   "outputs": [
    {
     "data": {
      "text/html": [
       "<div>\n",
       "<style scoped>\n",
       "    .dataframe tbody tr th:only-of-type {\n",
       "        vertical-align: middle;\n",
       "    }\n",
       "\n",
       "    .dataframe tbody tr th {\n",
       "        vertical-align: top;\n",
       "    }\n",
       "\n",
       "    .dataframe thead th {\n",
       "        text-align: right;\n",
       "    }\n",
       "</style>\n",
       "<table border=\"1\" class=\"dataframe\">\n",
       "  <thead>\n",
       "    <tr style=\"text-align: right;\">\n",
       "      <th></th>\n",
       "      <th>female</th>\n",
       "      <th>education_high</th>\n",
       "      <th>allergy</th>\n",
       "      <th>smoke</th>\n",
       "      <th>sedentary</th>\n",
       "      <th>asthma</th>\n",
       "      <th>adult</th>\n",
       "      <th>old</th>\n",
       "      <th>young</th>\n",
       "      <th>low</th>\n",
       "      <th>medium</th>\n",
       "      <th>high</th>\n",
       "      <th>south/islands</th>\n",
       "      <th>north</th>\n",
       "      <th>centre</th>\n",
       "    </tr>\n",
       "  </thead>\n",
       "  <tbody>\n",
       "    <tr>\n",
       "      <th>0</th>\n",
       "      <td>no</td>\n",
       "      <td>no</td>\n",
       "      <td>yes</td>\n",
       "      <td>yes</td>\n",
       "      <td>yes</td>\n",
       "      <td>yes</td>\n",
       "      <td>yes</td>\n",
       "      <td>no</td>\n",
       "      <td>no</td>\n",
       "      <td>yes</td>\n",
       "      <td>no</td>\n",
       "      <td>no</td>\n",
       "      <td>yes</td>\n",
       "      <td>no</td>\n",
       "      <td>no</td>\n",
       "    </tr>\n",
       "    <tr>\n",
       "      <th>1</th>\n",
       "      <td>yes</td>\n",
       "      <td>no</td>\n",
       "      <td>yes</td>\n",
       "      <td>no</td>\n",
       "      <td>yes</td>\n",
       "      <td>yes</td>\n",
       "      <td>no</td>\n",
       "      <td>yes</td>\n",
       "      <td>no</td>\n",
       "      <td>yes</td>\n",
       "      <td>no</td>\n",
       "      <td>no</td>\n",
       "      <td>yes</td>\n",
       "      <td>no</td>\n",
       "      <td>no</td>\n",
       "    </tr>\n",
       "    <tr>\n",
       "      <th>2</th>\n",
       "      <td>yes</td>\n",
       "      <td>yes</td>\n",
       "      <td>no</td>\n",
       "      <td>no</td>\n",
       "      <td>yes</td>\n",
       "      <td>yes</td>\n",
       "      <td>yes</td>\n",
       "      <td>no</td>\n",
       "      <td>no</td>\n",
       "      <td>no</td>\n",
       "      <td>no</td>\n",
       "      <td>yes</td>\n",
       "      <td>no</td>\n",
       "      <td>no</td>\n",
       "      <td>yes</td>\n",
       "    </tr>\n",
       "    <tr>\n",
       "      <th>3</th>\n",
       "      <td>no</td>\n",
       "      <td>no</td>\n",
       "      <td>yes</td>\n",
       "      <td>no</td>\n",
       "      <td>no</td>\n",
       "      <td>no</td>\n",
       "      <td>yes</td>\n",
       "      <td>no</td>\n",
       "      <td>no</td>\n",
       "      <td>no</td>\n",
       "      <td>yes</td>\n",
       "      <td>no</td>\n",
       "      <td>yes</td>\n",
       "      <td>no</td>\n",
       "      <td>no</td>\n",
       "    </tr>\n",
       "    <tr>\n",
       "      <th>4</th>\n",
       "      <td>yes</td>\n",
       "      <td>yes</td>\n",
       "      <td>no</td>\n",
       "      <td>no</td>\n",
       "      <td>no</td>\n",
       "      <td>no</td>\n",
       "      <td>yes</td>\n",
       "      <td>no</td>\n",
       "      <td>no</td>\n",
       "      <td>yes</td>\n",
       "      <td>no</td>\n",
       "      <td>no</td>\n",
       "      <td>no</td>\n",
       "      <td>yes</td>\n",
       "      <td>no</td>\n",
       "    </tr>\n",
       "  </tbody>\n",
       "</table>\n",
       "</div>"
      ],
      "text/plain": [
       "  female education_high allergy smoke sedentary asthma adult  old young  low  \\\n",
       "0     no             no     yes   yes       yes    yes   yes   no    no  yes   \n",
       "1    yes             no     yes    no       yes    yes    no  yes    no  yes   \n",
       "2    yes            yes      no    no       yes    yes   yes   no    no   no   \n",
       "3     no             no     yes    no        no     no   yes   no    no   no   \n",
       "4    yes            yes      no    no        no     no   yes   no    no  yes   \n",
       "\n",
       "  medium high south/islands north centre  \n",
       "0     no   no           yes    no     no  \n",
       "1     no   no           yes    no     no  \n",
       "2     no  yes            no    no    yes  \n",
       "3    yes   no           yes    no     no  \n",
       "4     no   no            no   yes     no  "
      ]
     },
     "execution_count": 14,
     "metadata": {},
     "output_type": "execute_result"
    }
   ],
   "source": [
    "df.head()"
   ]
  },
  {
   "cell_type": "code",
   "execution_count": 36,
   "metadata": {},
   "outputs": [
    {
     "name": "stdout",
     "output_type": "stream",
     "text": [
      "yes    830\n",
      "no     743\n",
      "Name: female, dtype: int64\n",
      "yes    639\n",
      "no     543\n",
      "Name: female, dtype: int64\n",
      "yes    788\n",
      "no     785\n",
      "Name: education_high, dtype: int64\n",
      "no     706\n",
      "yes    476\n",
      "Name: education_high, dtype: int64\n",
      "no     1332\n",
      "yes     241\n",
      "Name: smoke, dtype: int64\n",
      "no     989\n",
      "yes    193\n",
      "Name: smoke, dtype: int64\n"
     ]
    }
   ],
   "source": [
    "print(df[df['asthma'] =='no' ]['female'].value_counts())\n",
    "print(df[df['asthma'] =='yes' ]['female'].value_counts())\n",
    "print(df[df['asthma'] =='no' ]['education_high'].value_counts())\n",
    "print(df[df['asthma'] =='yes' ]['education_high'].value_counts())\n",
    "print(df[df['asthma'] =='no' ]['smoke'].value_counts())\n",
    "print(df[df['asthma'] =='yes' ]['smoke'].value_counts())"
   ]
  },
  {
   "cell_type": "code",
   "execution_count": 37,
   "metadata": {},
   "outputs": [
    {
     "name": "stdout",
     "output_type": "stream",
     "text": [
      "no     743\n",
      "yes    543\n",
      "Name: asthma, dtype: int64\n",
      "no     830\n",
      "yes    639\n",
      "Name: asthma, dtype: int64\n",
      "no     785\n",
      "yes    706\n",
      "Name: asthma, dtype: int64\n",
      "no     788\n",
      "yes    476\n",
      "Name: asthma, dtype: int64\n",
      "no     1332\n",
      "yes     989\n",
      "Name: asthma, dtype: int64\n",
      "no     241\n",
      "yes    193\n",
      "Name: asthma, dtype: int64\n"
     ]
    }
   ],
   "source": [
    "print(df[df['female'] =='no' ]['asthma'].value_counts())\n",
    "print(df[df['female'] =='yes' ]['asthma'].value_counts())\n",
    "print(df[df['education_high'] =='no' ]['asthma'].value_counts())\n",
    "print(df[df['education_high'] =='yes' ]['asthma'].value_counts())\n",
    "print(df[df['smoke'] =='no' ]['asthma'].value_counts())\n",
    "print(df[df['smoke'] =='yes' ]['asthma'].value_counts())"
   ]
  },
  {
   "cell_type": "code",
   "execution_count": 48,
   "metadata": {},
   "outputs": [],
   "source": [
    "#compute probabilities of asthma given each column\n",
    "yyy = df[(df['female']=='yes') & (df['education_high']=='yes') & (df['smoke']=='yes')]['asthma'].value_counts()\n",
    "yyn = df[(df['female']=='yes') & (df['education_high']=='yes') & (df['smoke']=='no')]['asthma'].value_counts()\n",
    "yny = df[(df['female']=='yes') & (df['education_high']=='no') & (df['smoke']=='yes')]['asthma'].value_counts()\n",
    "ynn = df[(df['female']=='yes') & (df['education_high']=='no') & (df['smoke']=='no')]['asthma'].value_counts()\n",
    "nyy = df[(df['female']=='no') & (df['education_high']=='yes') & (df['smoke']=='yes')]['asthma'].value_counts()\n",
    "nyn = df[(df['female']=='no') & (df['education_high']=='yes') & (df['smoke']=='no')]['asthma'].value_counts()\n",
    "nny = df[(df['female']=='no') & (df['education_high']=='no') & (df['smoke']=='yes')]['asthma'].value_counts()\n",
    "nnn = df[(df['female']=='no') & (df['education_high']=='no') & (df['smoke']=='no')]['asthma'].value_counts()"
   ]
  },
  {
   "cell_type": "code",
   "execution_count": 49,
   "metadata": {},
   "outputs": [
    {
     "name": "stdout",
     "output_type": "stream",
     "text": [
      "Probability of asthma given yes female, yes education, yes smoke:  0.45098039215686275\n",
      "Probability of asthma given yes female, yes education, no smoke:  0.3936731107205624\n"
     ]
    }
   ],
   "source": [
    "#compute probability of asthma for yyy\n",
    "yyy_prob = yyy['yes'] / (yyy['no'] + yyy['yes'])\n",
    "print(\"Probability of asthma given yes female, yes education, yes smoke: \", yyy_prob)\n",
    "#compute probability of asthma for yyn\n",
    "yyn_prob = yyn['yes'] / (yyn['no'] + yyn['yes'])\n",
    "print(\"Probability of asthma given yes female, yes education, no smoke: \", yyn_prob)\n",
    "#compute probability of asthma for yny\n",
    "yny_prob = yny['yes'] / (yny['no'] + yny['yes'])\n"
   ]
  },
  {
   "cell_type": "code",
   "execution_count": 50,
   "metadata": {},
   "outputs": [],
   "source": [
    "def target_given_parent(df, target_column, parent_column):\n",
    "    \"\"\"\n",
    "    Computes the probability of the target column given the parent column\n",
    "    :param df: dataframe\n",
    "    :param target_column: target column\n",
    "    :param parent_column: parent column\n",
    "    :return: probability of target given parent\n",
    "    \"\"\"\n",
    "    # compute probability of target given parent\n",
    "    yyy = df[(df[parent_column] == 'yes') & (df[target_column] == 'yes')][target_column].value_counts()\n",
    "    yyn = df[(df[parent_column] == 'yes') & (df[target_column] == 'no')][target_column].value_counts()\n",
    "    yny = df[(df[parent_column] == 'no') & (df[target_column] == 'yes')][target_column].value_counts()\n",
    "    ynn = df[(df[parent_column] == 'no') & (df[target_column] == 'no')][target_column].value_counts()\n",
    "\n",
    "    # compute probability of target given parent\n",
    "    yyy_prob = yyy['yes'] / (yyy['no'] + yyy['yes'])\n",
    "    yyn_prob = yyn['yes'] / (yyn['no'] + yyn['yes'])\n",
    "    yny_prob = yny['yes'] / (yny['no'] + yny['yes'])\n",
    "    ynn_prob = ynn['yes'] / (ynn['no'] + ynn['yes'])\n",
    "\n",
    "    return yyy_prob, yyn_prob, yny_prob, ynn_prob\n"
   ]
  },
  {
   "cell_type": "code",
   "execution_count": null,
   "metadata": {},
   "outputs": [],
   "source": [
    "print(target_given_parent(df, ))"
   ]
  },
  {
   "cell_type": "code",
   "execution_count": 66,
   "metadata": {},
   "outputs": [
    {
     "data": {
      "text/plain": [
       "allergy     \n",
       "no       no     0.693079\n",
       "         yes    0.306921\n",
       "yes      yes    0.749014\n",
       "         no     0.250986\n",
       "Name: asthma, dtype: float64"
      ]
     },
     "execution_count": 66,
     "metadata": {},
     "output_type": "execute_result"
    }
   ],
   "source": [
    "df.groupby(['allergy'])['asthma'].apply(lambda x: x.value_counts('normalize'))\n"
   ]
  },
  {
   "cell_type": "code",
   "execution_count": 68,
   "metadata": {},
   "outputs": [
    {
     "data": {
      "text/plain": [
       "no     0.570962\n",
       "yes    0.429038\n",
       "Name: asthma, dtype: float64"
      ]
     },
     "execution_count": 68,
     "metadata": {},
     "output_type": "execute_result"
    }
   ],
   "source": [
    "#find how many people have asthma\n",
    "df['asthma'].value_counts().apply(lambda x : x / df.shape[0])"
   ]
  },
  {
   "cell_type": "code",
   "execution_count": 69,
   "metadata": {},
   "outputs": [
    {
     "data": {
      "text/plain": [
       "Index(['sex', 'age', 'urbanization', 'education', 'geographic_area', 'allergy',\n",
       "       'smoke', 'sedentary', 'asthma'],\n",
       "      dtype='object')"
      ]
     },
     "execution_count": 69,
     "metadata": {},
     "output_type": "execute_result"
    }
   ],
   "source": [
    "df.columns"
   ]
  },
  {
   "cell_type": "code",
   "execution_count": 19,
   "metadata": {},
   "outputs": [
    {
     "name": "stdout",
     "output_type": "stream",
     "text": [
      "geographic_area  urbanization      \n",
      "centre           high          high    0.628049\n",
      "                               low     0.371951\n",
      "                 low           low     0.638710\n",
      "                               high    0.361290\n",
      "                 medium        low     0.536697\n",
      "                               high    0.463303\n",
      "north            high          high    0.580556\n",
      "                               low     0.419444\n",
      "                 low           low     0.575188\n",
      "                               high    0.424812\n",
      "                 medium        low     0.511152\n",
      "                               high    0.488848\n",
      "south/islands    high          low     0.537791\n",
      "                               high    0.462209\n",
      "                 low           low     0.691860\n",
      "                               high    0.308140\n",
      "                 medium        low     0.579235\n",
      "                               high    0.420765\n",
      "Name: education, dtype: float64\n"
     ]
    }
   ],
   "source": [
    "education_table = df.groupby([\"geographic_area\", \"urbanization\"])['education'].apply(lambda x: x.value_counts('normalize'))\n",
    "print(education_table)"
   ]
  },
  {
   "cell_type": "code",
   "execution_count": 35,
   "metadata": {},
   "outputs": [
    {
     "data": {
      "text/plain": [
       "allergy  education  sex     smoke     \n",
       "no       high       female  no     no     0.771883\n",
       "                                   yes    0.228117\n",
       "                            yes    no     0.765625\n",
       "                                   yes    0.234375\n",
       "                    male    no     no     0.801120\n",
       "                                   yes    0.198880\n",
       "                            yes    no     0.797297\n",
       "                                   yes    0.202703\n",
       "         low        female  no     no     0.664694\n",
       "                                   yes    0.335306\n",
       "                            yes    no     0.573333\n",
       "                                   yes    0.426667\n",
       "                    male    no     no     0.577528\n",
       "                                   yes    0.422472\n",
       "                            yes    no     0.631579\n",
       "                                   yes    0.368421\n",
       "yes      high       female  no     yes    0.718750\n",
       "                                   no     0.281250\n",
       "                            yes    yes    0.815789\n",
       "                                   no     0.184211\n",
       "                    male    no     yes    0.728682\n",
       "                                   no     0.271318\n",
       "                            yes    yes    0.787879\n",
       "                                   no     0.212121\n",
       "         low        female  no     yes    0.789474\n",
       "                                   no     0.210526\n",
       "                            yes    yes    0.653846\n",
       "                                   no     0.346154\n",
       "                    male    no     yes    0.741935\n",
       "                                   no     0.258065\n",
       "                            yes    yes    0.758621\n",
       "                                   no     0.241379\n",
       "Name: asthma, dtype: float64"
      ]
     },
     "execution_count": 35,
     "metadata": {},
     "output_type": "execute_result"
    }
   ],
   "source": [
    "asthma_table = df.groupby([\"allergy\", 'education', 'sex', \"smoke\"])['asthma'].apply(lambda x: x.value_counts('normalize'))\n",
    "asthma_table"
   ]
  },
  {
   "cell_type": "code",
   "execution_count": 10,
   "metadata": {},
   "outputs": [],
   "source": [
    "import numpy as np"
   ]
  },
  {
   "cell_type": "code",
   "execution_count": 34,
   "metadata": {},
   "outputs": [
    {
     "data": {
      "text/plain": [
       "array(['south/islands'], dtype=object)"
      ]
     },
     "execution_count": 34,
     "metadata": {},
     "output_type": "execute_result"
    }
   ],
   "source": [
    "geographic_area"
   ]
  },
  {
   "cell_type": "code",
   "execution_count": null,
   "metadata": {},
   "outputs": [],
   "source": []
  },
  {
   "cell_type": "code",
   "execution_count": 33,
   "metadata": {},
   "outputs": [
    {
     "data": {
      "text/plain": [
       "array([0.5377907, 0.4622093])"
      ]
     },
     "execution_count": 33,
     "metadata": {},
     "output_type": "execute_result"
    }
   ],
   "source": [
    "probabilities_education"
   ]
  },
  {
   "cell_type": "code",
   "execution_count": 29,
   "metadata": {},
   "outputs": [],
   "source": [
    "#pick value based on probability\n",
    "probabilities_sex = df[\"sex\"].value_counts() / df.shape[0]\n",
    "sex = np.random.choice(probabilities_sex.index, size=1, p=probabilities_sex.values)\n",
    "probabilities_smoke = df['smoke'].value_counts() / df.shape[0]\n",
    "smoke = np.random.choice(probabilities_smoke.index, size=1, p=probabilities_smoke.values)\n",
    "probabilities_allergy = df['allergy'].value_counts() / df.shape[0]\n",
    "allergy = np.random.choice(probabilities_allergy.index, size=1, p=probabilities_allergy.values)\n",
    "probabilities_geographic_area = df['geographic_area'].value_counts() / df.shape[0]\n",
    "geographic_area = np.random.choice(probabilities_geographic_area.index, size=1, p=probabilities_geographic_area.values)\n",
    "probabilities_urbanization = df['urbanization'].value_counts() / df.shape[0]\n",
    "urbanization = np.random.choice(probabilities_urbanization.index, size=1, p=probabilities_urbanization.values)\n",
    "\n",
    "#pick education value based on probability of education_table\n",
    "probabilities_education = education_table[geographic_area[0]][urbanization[0]].values\n",
    "education = np.random.choice(education_table[geographic_area[0]][urbanization[0]].index, size=1, p=probabilities_education)\n",
    "\n",
    "#pick asthma value based on everything else <3\n",
    "probabilities_asthma = asthma_table[allergy[0]][education[0]][sex[0]][smoke[0]].values\n",
    "asthma = np.random.choice(asthma_table[allergy[0]][education[0]][sex[0]][smoke[0]].index, size=1, p=probabilities_asthma)"
   ]
  },
  {
   "cell_type": "code",
   "execution_count": 31,
   "metadata": {},
   "outputs": [
    {
     "name": "stdout",
     "output_type": "stream",
     "text": [
      "Benjamin has the following upgraded abilities:  (array(['female'], dtype=object), array(['yes'], dtype=object), array(['yes'], dtype=object), array(['high'], dtype=object), array(['south/islands'], dtype=object), array(['high'], dtype=object), array(['yes'], dtype=object))\n"
     ]
    }
   ],
   "source": [
    "new_benjamin = (sex, smoke, allergy, education, geographic_area, urbanization, asthma)\n",
    "\n",
    "print(\"Benjamin has the following upgraded abilities: \", new_benjamin) # he can now have asthma"
   ]
  },
  {
   "cell_type": "code",
   "execution_count": 32,
   "metadata": {},
   "outputs": [
    {
     "data": {
      "text/plain": [
       "(array(['female'], dtype=object),\n",
       " array(['yes'], dtype=object),\n",
       " array(['yes'], dtype=object),\n",
       " array(['high'], dtype=object),\n",
       " array(['south/islands'], dtype=object),\n",
       " array(['high'], dtype=object),\n",
       " array(['yes'], dtype=object))"
      ]
     },
     "execution_count": 32,
     "metadata": {},
     "output_type": "execute_result"
    }
   ],
   "source": [
    "new_benjamin"
   ]
  },
  {
   "cell_type": "code",
   "execution_count": null,
   "metadata": {},
   "outputs": [],
   "source": []
  }
 ],
 "metadata": {
  "kernelspec": {
   "display_name": "uni_env",
   "language": "python",
   "name": "python3"
  },
  "language_info": {
   "codemirror_mode": {
    "name": "ipython",
    "version": 3
   },
   "file_extension": ".py",
   "mimetype": "text/x-python",
   "name": "python",
   "nbconvert_exporter": "python",
   "pygments_lexer": "ipython3",
   "version": "3.10.8"
  },
  "orig_nbformat": 4
 },
 "nbformat": 4,
 "nbformat_minor": 2
}
