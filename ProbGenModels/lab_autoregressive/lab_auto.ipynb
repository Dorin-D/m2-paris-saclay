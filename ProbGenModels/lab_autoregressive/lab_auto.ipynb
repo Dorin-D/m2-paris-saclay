{
 "cells": [
  {
   "cell_type": "markdown",
   "metadata": {},
   "source": [
    "Student: Dorin Doncenco"
   ]
  },
  {
   "cell_type": "markdown",
   "metadata": {},
   "source": [
    "Use the binarized MNIST database to:\n",
    "\n",
    "·        Generate images with autoregressive models available in the pytorch library\n",
    "\n",
    "·        What are the encountered difficulties (initialization…)\n",
    "\n",
    "·        Comment on the obtained results according to the used settings \n"
   ]
  },
  {
   "cell_type": "code",
   "execution_count": null,
   "metadata": {},
   "outputs": [],
   "source": []
  }
 ],
 "metadata": {
  "language_info": {
   "name": "python"
  }
 },
 "nbformat": 4,
 "nbformat_minor": 2
}
