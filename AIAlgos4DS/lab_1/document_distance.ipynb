{
 "cells": [
  {
   "cell_type": "code",
   "execution_count": 6,
   "metadata": {},
   "outputs": [],
   "source": [
    "def compute_bags(doc, n):\n",
    "    #compute the bags of size n for a given document\n",
    "    bags = dict()\n",
    "    for i in range(len(doc)-n+1):\n",
    "        bag = doc[i:i+n]\n",
    "        if bag in bags:\n",
    "            bags[bag] += 1\n",
    "        else:\n",
    "            bags[bag] = 1\n",
    "    return bags\n",
    "\n",
    "#given two documents, compute their bags of size n and compute the distance between them\n",
    "\n",
    "def document_distance(doc_1, doc_2, n):\n",
    "    bags_1 = compute_bags(doc_1, n)\n",
    "    bags_2 = compute_bags(doc_2, n)\n",
    "\n",
    "    #compute the similarity between the two documents\n",
    "    all_bags = set(bags_1.keys()).union(set(bags_2.keys()))\n",
    "    total_bags = len(all_bags)\n",
    "    \n",
    "    intersected_bags = set(bags_1.keys()).intersection(bags_2.keys())\n",
    "    common_bags = len(intersected_bags)\n",
    "    return 1 - common_bags/total_bags"
   ]
  },
  {
   "cell_type": "code",
   "execution_count": 7,
   "metadata": {},
   "outputs": [
    {
     "name": "stdout",
     "output_type": "stream",
     "text": [
      "0.9209621993127148\n"
     ]
    }
   ],
   "source": [
    "doc_1 = \"The encoding of sets as boolean values can still be too costly – cost = the number of different possible shingles, or the size of the universal set\"\n",
    "doc_2 = \"We want to minimize the size of this set, and transform the set into a signature set • in other words, compress the size of the columns (=documents) in the matrix Principle – similarity of signature sets = similarity of shingle sets = similarity of documents\"\n",
    "n = 4\n",
    "\n",
    "#print(compute_bags(doc_1, n))\n",
    "#print(compute_bags(doc_2, n))\n",
    "\n",
    "print(document_distance(doc_1, doc_2, n))"
   ]
  },
  {
   "cell_type": "code",
   "execution_count": null,
   "metadata": {},
   "outputs": [],
   "source": []
  }
 ],
 "metadata": {
  "kernelspec": {
   "display_name": "uni_env",
   "language": "python",
   "name": "python3"
  },
  "language_info": {
   "codemirror_mode": {
    "name": "ipython",
    "version": 3
   },
   "file_extension": ".py",
   "mimetype": "text/x-python",
   "name": "python",
   "nbconvert_exporter": "python",
   "pygments_lexer": "ipython3",
   "version": "3.10.8"
  },
  "orig_nbformat": 4
 },
 "nbformat": 4,
 "nbformat_minor": 2
}
