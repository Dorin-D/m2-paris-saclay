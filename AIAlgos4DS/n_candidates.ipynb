{
 "cells": [
  {
   "cell_type": "code",
   "execution_count": 1,
   "metadata": {},
   "outputs": [],
   "source": [
    "import itertools"
   ]
  },
  {
   "cell_type": "code",
   "execution_count": 2,
   "metadata": {},
   "outputs": [],
   "source": [
    "this_string = \"\"\"\n",
    "abdgh\n",
    "cde\n",
    "bcf\n",
    "bf\n",
    "eg\n",
    "fi\n",
    "adh\n",
    "fi\n",
    "ce\n",
    "bg\n",
    "eg\n",
    "a\n",
    "cf\n",
    "cf\n",
    "hi\n",
    "d\n",
    "af\n",
    "abcdh\n",
    "abdgh\n",
    "e\n",
    "\"\"\"\n",
    "#Convert the string above to a set of strings where each row is the string element\n",
    "strings = this_string.split(\"\\n\")\n",
    "#remove empty strings\n",
    "strings = [set(s) for s in strings if s]"
   ]
  },
  {
   "cell_type": "code",
   "execution_count": 3,
   "metadata": {},
   "outputs": [],
   "source": [
    "#get unique elements\n",
    "set_unique_elements = set()\n",
    "for itemset in strings:\n",
    "    set_unique_elements = set_unique_elements.union(itemset)\n",
    "    #convert set to dictionary with counts of 0\n",
    "    unique_elements = {element:0 for element in set_unique_elements}\n",
    "\n"
   ]
  },
  {
   "cell_type": "code",
   "execution_count": 5,
   "metadata": {},
   "outputs": [],
   "source": [
    "def naive_find_n_candidates(list_of_items, n, threshold):\n",
    "    #create all n combinations of unique_elements \n",
    "    n_combinations = list(itertools.combinations(unique_elements, n))\n",
    "    valid_candidates = dict()\n",
    "    for combination in n_combinations:\n",
    "        #check in how many itemsets the combination is present\n",
    "        count = 0\n",
    "        combination = set(combination)\n",
    "        for itemset in list_of_items:\n",
    "            if combination.issubset(itemset):\n",
    "                count += 1\n",
    "        if count >= threshold:\n",
    "            #valid_candidates += 1\n",
    "            valid_candidates[tuple(combination)] = count\n",
    "    return valid_candidates\n",
    "\n",
    "\n",
    "\n",
    "def find_n_candidates(list_of_items, n, threshold):\n",
    "    if n == 1:\n",
    "        candidates = dict()\n",
    "        for element in unique_elements:\n",
    "            for itemset in list_of_items:\n",
    "                if element in itemset:\n",
    "                    if element in candidates:\n",
    "                        candidates[element] += 1\n",
    "                    else:\n",
    "                        candidates[element] = 1\n",
    "        #remove elements below threshold\n",
    "        valid_candidates = dict()\n",
    "        for candidate in candidates:\n",
    "            if candidates[candidate] >= threshold:\n",
    "                valid_candidates[candidate] = candidates[candidate]\n",
    "        return valid_candidates\n",
    "    \n",
    "    else:\n",
    "        smaller_candidates = find_n_candidates(list_of_items, n-1, threshold)\n",
    "        #create potential candidates by adding one element to the smaller candidates\n",
    "        list_candidates = []\n",
    "        for candidate in smaller_candidates:\n",
    "            candidate = set(candidate)\n",
    "            for element in unique_elements:\n",
    "                if element not in candidate:\n",
    "                    potential_candidate = candidate.union(set([element]))\n",
    "                    if potential_candidate not in list_candidates:\n",
    "                        list_candidates.append(potential_candidate)\n",
    "\n",
    "        #convert list_candidates to a dictioanry\n",
    "        candidates = dict()\n",
    "        for candidate in list_candidates:\n",
    "            candidates[tuple(candidate)] = 0\n",
    "        #check in how many itemsets the candidate is present\n",
    "        for candidate in candidates:\n",
    "            for itemset in list_of_items:\n",
    "                if set(candidate).issubset(itemset):\n",
    "                    candidates[candidate] += 1\n",
    "        #remove elements below threshold\n",
    "        valid_candidates = dict()\n",
    "        for candidate in candidates:\n",
    "            if candidates[candidate] >= threshold:\n",
    "                valid_candidates[candidate] = candidates[candidate]\n",
    "        return valid_candidates"
   ]
  },
  {
   "cell_type": "code",
   "execution_count": 6,
   "metadata": {},
   "outputs": [],
   "source": [
    "size = len(strings)\n",
    "threshold_percentage = 0.1\n",
    "\n",
    "threshold = int(size * threshold_percentage)\n",
    "n = 5"
   ]
  },
  {
   "cell_type": "code",
   "execution_count": 12,
   "metadata": {},
   "outputs": [],
   "source": [
    "#measure time to run functions\n",
    "import time\n"
   ]
  },
  {
   "cell_type": "code",
   "execution_count": 15,
   "metadata": {},
   "outputs": [
    {
     "name": "stdout",
     "output_type": "stream",
     "text": [
      "Time to run find_n_candidates:  0.0007157325744628906\n"
     ]
    }
   ],
   "source": [
    "start_time = time.time()\n",
    "other_candidates = find_n_candidates(strings, n, threshold)\n",
    "end_time = time.time()\n",
    "find_candidates_duration = end_time - start_time\n",
    "print(\"Time to run find_n_candidates: \", end_time - start_time)"
   ]
  },
  {
   "cell_type": "code",
   "execution_count": 16,
   "metadata": {},
   "outputs": [
    {
     "name": "stdout",
     "output_type": "stream",
     "text": [
      "Time to run naive_find_n_candidates:  0.0002522468566894531\n"
     ]
    }
   ],
   "source": [
    "start_time = time.time()\n",
    "naive_candidates = naive_find_n_candidates(strings, n, threshold)\n",
    "end_time = time.time()\n",
    "naive_find_n_candidates_duration = end_time - start_time\n",
    "print(\"Time to run naive_find_n_candidates: \", end_time - start_time)"
   ]
  },
  {
   "cell_type": "code",
   "execution_count": 17,
   "metadata": {},
   "outputs": [
    {
     "name": "stdout",
     "output_type": "stream",
     "text": [
      "find_n_candidates is  0.3524317121918721  times faster than naive_find_n_candidates\n"
     ]
    }
   ],
   "source": [
    "#compare durations\n",
    "print(\"find_n_candidates is \", naive_find_n_candidates_duration/find_candidates_duration, \" times faster than naive_find_n_candidates\")"
   ]
  }
 ],
 "metadata": {
  "kernelspec": {
   "display_name": "uni_env",
   "language": "python",
   "name": "python3"
  },
  "language_info": {
   "codemirror_mode": {
    "name": "ipython",
    "version": 3
   },
   "file_extension": ".py",
   "mimetype": "text/x-python",
   "name": "python",
   "nbconvert_exporter": "python",
   "pygments_lexer": "ipython3",
   "version": "3.10.8"
  },
  "orig_nbformat": 4
 },
 "nbformat": 4,
 "nbformat_minor": 2
}
