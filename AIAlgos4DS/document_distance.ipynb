{
 "cells": [
  {
   "cell_type": "code",
   "execution_count": 1,
   "metadata": {},
   "outputs": [],
   "source": [
    "def compute_bags(doc, n):\n",
    "    #compute the bags of size n for a given document\n",
    "    bags = dict()\n",
    "    for i in range(len(doc)-n+1):\n",
    "        bag = doc[i:i+n]\n",
    "        if bag in bags:\n",
    "            bags[bag] += 1\n",
    "        else:\n",
    "            bags[bag] = 1\n",
    "    return bags\n",
    "\n",
    "#given two documents, compute their bags of size n and compute the distance between them\n",
    "\n",
    "def document_distance(doc_1, doc_2, n):\n",
    "    bags_1 = compute_bags(doc_1, n)\n",
    "    bags_2 = compute_bags(doc_2, n)\n",
    "\n",
    "    #compute the similarity between the two documents\n",
    "    all_bags = set(bags_1.keys()).union(set(bags_2.keys()))\n",
    "    total_bags = len(all_bags)\n",
    "    common_bags = 0\n",
    "    for bag in all_bags:\n",
    "        if bag in bags_1 and bag in bags_2:\n",
    "            common_bags += 1\n",
    "    return 1 - common_bags/total_bags"
   ]
  },
  {
   "cell_type": "code",
   "execution_count": 2,
   "metadata": {},
   "outputs": [
    {
     "name": "stdout",
     "output_type": "stream",
     "text": [
      "{'The ': 1, 'he e': 1, 'e en': 1, ' enc': 1, 'enco': 1, 'ncod': 1, 'codi': 1, 'odin': 1, 'ding': 1, 'ing ': 1, 'ng o': 1, 'g of': 1, ' of ': 8, 'of s': 3, 'f se': 1, ' set': 7, 'sets': 3, 'ets ': 3, 'ts a': 1, 's as': 1, ' as ': 1, 'as b': 1, 's bo': 1, ' boo': 1, 'bool': 1, 'oole': 1, 'olea': 1, 'lean': 1, 'ean ': 1, 'an v': 1, 'n va': 1, ' val': 1, 'valu': 1, 'alue': 1, 'lues': 1, 'ues ': 1, 'es c': 1, 's ca': 1, ' can': 1, 'can ': 1, 'an s': 1, 'n st': 1, ' sti': 1, 'stil': 1, 'till': 1, 'ill ': 1, 'll b': 1, 'l be': 1, ' be ': 1, 'be t': 1, 'e to': 1, ' too': 1, 'too ': 1, 'oo c': 1, 'o co': 1, ' cos': 2, 'cost': 2, 'ostl': 1, 'stly': 1, 'tly ': 1, 'ly –': 1, 'y – ': 1, ' – c': 1, '– co': 1, 'ost ': 1, 'st =': 1, 't = ': 1, ' = t': 1, '= th': 1, ' the': 8, 'the ': 8, 'he n': 1, 'e nu': 1, ' num': 1, 'numb': 1, 'umbe': 1, 'mber': 1, 'ber ': 1, 'er o': 1, 'r of': 1, 'of d': 2, 'f di': 1, ' dif': 1, 'diff': 1, 'iffe': 1, 'ffer': 1, 'fere': 1, 'eren': 1, 'rent': 1, 'ent ': 1, 'nt p': 1, 't po': 1, ' pos': 1, 'poss': 1, 'ossi': 1, 'ssib': 1, 'sibl': 1, 'ible': 1, 'ble ': 1, 'le s': 2, 'e sh': 1, ' shi': 2, 'shin': 2, 'hing': 2, 'ingl': 2, 'ngle': 2, 'gles': 1, 'les,': 1, 'es, ': 1, 's, o': 1, ', or': 1, ' or ': 1, 'or t': 1, 'r th': 1, 'he s': 4, 'e si': 3, ' siz': 3, 'size': 3, 'ize ': 4, 'ze o': 3, 'e of': 3, 'of t': 3, 'f th': 3, 'he u': 1, 'e un': 1, ' uni': 1, 'univ': 1, 'nive': 1, 'iver': 1, 'vers': 1, 'ersa': 1, 'rsal': 1, 'sal ': 1, 'al s': 1, 'l se': 1, 'set ': 3, 'et W': 1, 't We': 1, ' We ': 1, 'We w': 1, 'e wa': 1, ' wan': 1, 'want': 1, 'ant ': 1, 'nt t': 1, 't to': 1, ' to ': 1, 'to m': 1, 'o mi': 1, ' min': 1, 'mini': 1, 'inim': 1, 'nimi': 1, 'imiz': 1, 'mize': 1, 'ze t': 1, 'e th': 1, ' thi': 1, 'this': 1, 'his ': 1, 'is s': 1, 's se': 1, 'set,': 1, 'et, ': 1, 't, a': 1, ', an': 1, ' and': 1, 'and ': 1, 'nd t': 1, 'd tr': 1, ' tra': 1, 'tran': 1, 'rans': 1, 'ansf': 1, 'nsfo': 1, 'sfor': 1, 'form': 1, 'orm ': 1, 'rm t': 1, 'm th': 1, 'e se': 4, 'et i': 1, 't in': 1, ' int': 1, 'into': 1, 'nto ': 1, 'to a': 1, 'o a ': 1, ' a s': 1, 'a si': 1, ' sig': 2, 'sign': 2, 'igna': 2, 'gnat': 2, 'natu': 2, 'atur': 2, 'ture': 2, 'ure ': 2, 're s': 2, 'et •': 1, 't • ': 1, ' • i': 1, '• in': 1, ' in ': 2, 'in o': 1, 'n ot': 1, ' oth': 1, 'othe': 1, 'ther': 1, 'her ': 1, 'er w': 1, 'r wo': 1, ' wor': 1, 'word': 1, 'ords': 1, 'rds,': 1, 'ds, ': 1, 's, c': 1, ', co': 1, ' com': 1, 'comp': 1, 'ompr': 1, 'mpre': 1, 'pres': 1, 'ress': 1, 'ess ': 1, 'ss t': 1, 's th': 1, 'he c': 1, 'e co': 1, ' col': 1, 'colu': 1, 'olum': 1, 'lumn': 1, 'umns': 1, 'mns ': 1, 'ns (': 1, 's (=': 1, ' (=d': 1, '(=do': 1, '=doc': 1, 'docu': 2, 'ocum': 2, 'cume': 2, 'umen': 2, 'ment': 2, 'ents': 2, 'nts)': 1, 'ts) ': 1, 's) i': 1, ') in': 1, 'in t': 1, 'n th': 1, 'he m': 1, 'e ma': 1, ' mat': 1, 'matr': 1, 'atri': 1, 'trix': 1, 'rix ': 1, 'ix P': 1, 'x Pr': 1, ' Pri': 1, 'Prin': 1, 'rinc': 1, 'inci': 1, 'ncip': 1, 'cipl': 1, 'iple': 1, 'ple ': 1, 'le –': 1, 'e – ': 1, ' – s': 1, '– si': 1, ' sim': 3, 'simi': 3, 'imil': 3, 'mila': 3, 'ilar': 3, 'lari': 3, 'arit': 3, 'rity': 3, 'ity ': 3, 'ty o': 3, 'y of': 3, 'f si': 1, 'ts =': 2, 's = ': 2, ' = s': 2, '= si': 2, 'f sh': 1, 'gle ': 1, 'f do': 1, ' doc': 1}\n"
     ]
    }
   ],
   "source": [
    "doc_1 = \"The encoding of sets as boolean values can still be too costly – cost = the number of different possible shingles, or the size of the universal set We want to minimize the size of this set, and transform the set into a signature set • in other words, compress the size of the columns (=documents) in the matrix Principle – similarity of signature sets = similarity of shingle sets = similarity of documents\"\n",
    "n = 4\n",
    "print(compute_bags(doc_1, n))"
   ]
  },
  {
   "cell_type": "code",
   "execution_count": null,
   "metadata": {},
   "outputs": [],
   "source": []
  }
 ],
 "metadata": {
  "kernelspec": {
   "display_name": "uni_env",
   "language": "python",
   "name": "python3"
  },
  "language_info": {
   "codemirror_mode": {
    "name": "ipython",
    "version": 3
   },
   "file_extension": ".py",
   "mimetype": "text/x-python",
   "name": "python",
   "nbconvert_exporter": "python",
   "pygments_lexer": "ipython3",
   "version": "3.10.8"
  },
  "orig_nbformat": 4
 },
 "nbformat": 4,
 "nbformat_minor": 2
}
