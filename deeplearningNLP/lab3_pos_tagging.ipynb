{
 "cells": [
  {
   "cell_type": "markdown",
   "id": "b29fe24a-4c18-47c9-88c3-1152dd366599",
   "metadata": {},
   "source": [
    "# Out of domain and cross-lingual part-of-speech tagging\n",
    "\n",
    "The goal of this lab exercise is to build a part-of-speech tagger that should be tested in the two following settings:\n",
    "- out-of-domain generalization: test the tagger on a different domain than the one used for training (but in the same language).\n",
    "- cross-lingual generalization: test the tagger on a different language that has been used for training.\n",
    "\n",
    "To this end, you will rely on the aligned fast-text embeddings: https://fasttext.cc/docs/en/aligned-vectors.html\n",
    "However, the original files are quite big, so I uploaded on the website a filtered version of them that contains only words data appears in the data we use.\n",
    "Two important points:\n",
    "- you must not fine tune these embeddings, they are fixed\n",
    "- you need to have a special embedding for unknown words (the ones that don't have embeddings in fasttext) that you initialize and fix to a vector full of 0 (e.g. add an unk word to your dictionnary)\n",
    "To take care of this, the best way is to build the dictionnary when you read the fasttext embedding file, and then when you read the data, replace the words that don't have embeddings with the UNK word.\n",
    "\n",
    "**Warning:** do not use any external library or tools to load the fast text embeddings. Do it yourself, it is just a few lines of Python.\n",
    "\n",
    "## Reading data\n",
    "\n",
    "The data is in the conllu format: https://universaldependencies.org/format.html\n",
    "\n",
    "Basically:\n",
    "- comments are lines starting with a #\n",
    "- a blank line separate sentences\n",
    "- the ID column can contain 3 types of values:\n",
    "  - a single number\n",
    "  - a \"empty\" token, these IDs contains a \".\", for example 4.1 --- ignore these lines\n",
    "  - multiwords, these IDs contains a \"-\", for example 4-5 --- ignore these lines\n",
    "- you must convert all word to lowercase (we only have embeddings for lowercased words)\n",
    "\n",
    "You must start by writting a function that reads a conllu files and returns the list of sentences and the list of part-of-speech tags (i.e. keep only columns \"form\" and \"UPOS\").\n",
    "\n",
    "**Warning:** do not use any library to read these files, it is just a few lines of Python.\n",
    "\n",
    "Dataset files:\n",
    "- in domain english data: en_ewt-ud-*.conllu\n",
    "- out of domain english data: en_pud-ud-test.conllu\n",
    "- French test data: fr_gsd-ud-test.conllu\n",
    "\n",
    "## Neural network\n",
    "\n",
    "You must build a very simple neural network:\n",
    "- word embeddings from fast-text\n",
    "- a bilstm to construct context sensitive representations of words\n",
    "- to predict the POS of each word, use a very simple and shallow MLP (even a simple linear projection is sufficient) at each position\n",
    "\n",
    "Importantly, word embeddings will be different when you test in the cross-lingual settings. Therefore, I strongly recommend you to have two separate modules:\n",
    "- one that retrieves word embeddings, that you instantiate two times (one time with English embeddings, one time with French embeddings) --- this also means that you need two dictionnaries that maps words to integers\n",
    "- one that does the rest of the computation\n",
    "\n",
    "In order to correctly batch you data during training, you will need to use pack_padded_sequence and pad_packed_sequence (check the lecture slides). Explain in the report why you needs them in this case (and why you didn't need them in the language model lab exercise) and what they do.\n",
    "\n",
    "## Evaluation:\n",
    "\n",
    "Returns the tagging accuracy, i.e. the number of correctly predicted tags.\n",
    "\n",
    "If you have time, you can also explore more fine-grained metrics, especially in the cross-lingual case: accuracy per tag type, recall/precision/F1 per tag type, ..."
   ]
  },
  {
   "cell_type": "code",
   "execution_count": null,
   "id": "3c642177-6b3e-4111-a1c6-2d35a0f49f19",
   "metadata": {},
   "outputs": [],
   "source": []
  }
 ],
 "metadata": {
  "kernelspec": {
   "display_name": "Python 3 (ipykernel)",
   "language": "python",
   "name": "python3"
  },
  "language_info": {
   "codemirror_mode": {
    "name": "ipython",
    "version": 3
   },
   "file_extension": ".py",
   "mimetype": "text/x-python",
   "name": "python",
   "nbconvert_exporter": "python",
   "pygments_lexer": "ipython3",
   "version": "3.10.6"
  }
 },
 "nbformat": 4,
 "nbformat_minor": 5
}
