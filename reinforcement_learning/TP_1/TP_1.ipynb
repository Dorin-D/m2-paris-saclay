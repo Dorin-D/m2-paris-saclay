{
 "cells": [
  {
   "cell_type": "markdown",
   "metadata": {},
   "source": [
    "# TP 1 - Reinforcement Learning (November 16rd)"
   ]
  },
  {
   "cell_type": "markdown",
   "metadata": {},
   "source": [
    "Name : Dorin Doncenco"
   ]
  },
  {
   "cell_type": "markdown",
   "metadata": {},
   "source": [
    "### Instructions\n",
    "This assignement will be a discovery of a library for working with RL problems,   an implementation of Policy Iteration and Value Iteration algorithm and the first implementation of a sampling-based algorithm.\n",
    "\n",
    "We used the Cliff Walking Environment (also from Sutton's book).\n",
    "\n",
    "    Adapted from Example 6.6 (page 132) from Reinforcement Learning: An Introduction\n",
    "    by Sutton and Barto:\n",
    "    The board is a 4x12 matrix, with (using Numpy matrix indexing):\n",
    "        [3, 0] as the start at bottom-left\n",
    "        [3, 11] as the goal at bottom-right\n",
    "        [3, 1..10] as the cliff at bottom-center\n",
    "    Each time step incurs -1 reward, and stepping into the cliff incurs -100 reward\n",
    "    and a reset to the start. An episode terminates when the agent reaches the goal.\n",
    "\n",
    "(https://gymnasium.farama.org/_images/cliff_walking.gif \"Cliff Walking\")\n",
    "\n",
    "- Save this notebook in a ```.ipynb``` format and send it to cyriaque.rousselot(at)inria(dot)fr with the name ```TP1_NAME_SURNAME``` before November 23th.\n",
    "- Make sure to comment your code and explain your decisions clearly. Write explanations in text if necessary \n",
    "- Answers must be short and precise and don't require thousands lines of code. \n",
    "- Generally, the code to complete is indicated with the comment ```#TO IMPLEMENT```\n",
    "Good luck !\n"
   ]
  },
  {
   "cell_type": "markdown",
   "metadata": {},
   "source": [
    "## A gentle start with Gymnasium"
   ]
  },
  {
   "cell_type": "markdown",
   "metadata": {},
   "source": [
    "Have a look at the documentation of gymnasium https://gymnasium.farama.org/content/basic_usage/, of environments https://gymnasium.farama.org/api/env/ and of the Cliff Walking Environment https://gymnasium.farama.org/environments/toy_text/cliff_walking/. \n"
   ]
  },
  {
   "cell_type": "markdown",
   "metadata": {},
   "source": [
    "> You can use multiple render_mode in a gym environment class. For simplicity, I will ask you to render the environment in ansi mode to display it in the notebook."
   ]
  },
  {
   "cell_type": "markdown",
   "metadata": {},
   "source": [
    "**Q.1 Display the Action Space / State space of the CliffWalking environment**"
   ]
  },
  {
   "cell_type": "code",
   "execution_count": 1,
   "metadata": {},
   "outputs": [
    {
     "name": "stdout",
     "output_type": "stream",
     "text": [
      "time: 431 µs (started: 2023-11-16 09:27:48 +01:00)\n"
     ]
    }
   ],
   "source": [
    "try:\n",
    "    %load_ext autotime\n",
    "except:\n",
    "    !pip install ipython-autotime\n",
    "    %load_ext autotime"
   ]
  },
  {
   "cell_type": "code",
   "execution_count": 25,
   "metadata": {},
   "outputs": [
    {
     "name": "stdout",
     "output_type": "stream",
     "text": [
      "==========Load the environment==========\n",
      "==========Visualize the environment==========\n",
      "o  o  o  o  o  o  o  o  o  o  o  o\n",
      "o  o  o  o  o  o  o  o  o  o  o  o\n",
      "o  o  o  o  o  o  o  o  o  o  o  o\n",
      "x  C  C  C  C  C  C  C  C  C  C  T\n",
      "\n",
      "\n",
      "==========Action Space==========\n",
      "Discrete(4)\n",
      "==========State Space==========\n",
      "Discrete(48)\n",
      "time: 27.7 ms (started: 2023-11-16 09:46:17 +01:00)\n"
     ]
    }
   ],
   "source": [
    "import numpy as np\n",
    "import gymnasium as gym\n",
    "from matplotlib import pyplot as plt\n",
    "import time \n",
    "\n",
    "print(\"=\"*10 + \"Load the environment\"+\"=\"*10)\n",
    "env = gym.make('CliffWalking-v0', render_mode=\"ansi\") # Initialize the environment object\n",
    "observation, info = env.reset(seed=42) # Reset the environment\n",
    "\n",
    "print(\"=\"*10 + \"Visualize the environment\"+\"=\"*10)\n",
    "print(env.render()) # The Cliff Walking Environment in ANSI \n",
    "\n",
    "## Action Space\n",
    "nb_actions = 4\n",
    "print(\"=\"*10 + \"Action Space\"+\"=\"*10)\n",
    "action_space = env.action_space\n",
    "print(action_space)\n",
    "\n",
    "## State space\n",
    "nb_states = 48\n",
    "print(\"=\"*10 + \"State Space\"+\"=\"*10)\n",
    "state_space = env.observation_space\n",
    "print(state_space)\n",
    "\n",
    "env.close()"
   ]
  },
  {
   "cell_type": "markdown",
   "metadata": {},
   "source": [
    "### Use of a random policy"
   ]
  },
  {
   "cell_type": "markdown",
   "metadata": {},
   "source": [
    "**Q.2 Implement a policy that chose an action randomly from the action space and a policy that chose always the action \"go right\"**"
   ]
  },
  {
   "cell_type": "code",
   "execution_count": 46,
   "metadata": {},
   "outputs": [
    {
     "name": "stdout",
     "output_type": "stream",
     "text": [
      "time: 1.35 ms (started: 2023-11-16 10:02:05 +01:00)\n"
     ]
    }
   ],
   "source": [
    "def RandomPolicy(state,action_space):\n",
    "    #select random from action_space\n",
    "    return action_space.sample()\n",
    "    \n",
    "def GoRightPolicy(state,action_space):\n",
    "    #select right action, according to docs the action_space = [up,right,down,left]\n",
    "    return 1\n",
    "\n",
    "def GoUpPolicy(state,action_space):\n",
    "    #select up action, according to docs the action_space = [up,right,down,left]\n",
    "    return 0"
   ]
  },
  {
   "cell_type": "markdown",
   "metadata": {},
   "source": [
    "**Q.3 What is the meaning of the ouptut of the method ```step()``` of the environment class ?**"
   ]
  },
  {
   "cell_type": "code",
   "execution_count": 27,
   "metadata": {},
   "outputs": [
    {
     "name": "stdout",
     "output_type": "stream",
     "text": [
      "(36, -1, False, False, {'prob': 1.0})\n",
      "time: 9.35 ms (started: 2023-11-16 09:47:06 +01:00)\n"
     ]
    }
   ],
   "source": [
    "env = gym.make('CliffWalking-v0',render_mode=\"ansi\")\n",
    "env.reset()\n",
    "print(env.step(2))\n",
    "env.close()"
   ]
  },
  {
   "cell_type": "code",
   "execution_count": 31,
   "metadata": {},
   "outputs": [
    {
     "data": {
      "text/plain": [
       "(12, -1, False, False, {'prob': 1.0})"
      ]
     },
     "execution_count": 31,
     "metadata": {},
     "output_type": "execute_result"
    },
    {
     "name": "stdout",
     "output_type": "stream",
     "text": [
      "time: 3.73 ms (started: 2023-11-16 09:59:36 +01:00)\n"
     ]
    }
   ],
   "source": [
    "env.step(0)"
   ]
  },
  {
   "cell_type": "markdown",
   "metadata": {},
   "source": [
    "**Q.4 Build a function ```transition(env,s1,Pi)``` that take in entry the environment, a state and a ```policy(state,action_space)``` function. It has to return the immediate reward ,the next state and a boolean that indicates if the next step is a terminal state.**"
   ]
  },
  {
   "cell_type": "code",
   "execution_count": 172,
   "metadata": {},
   "outputs": [
    {
     "name": "stdout",
     "output_type": "stream",
     "text": [
      "(-100, 36, False)\n",
      "time: 14.1 ms (started: 2023-11-16 11:25:16 +01:00)\n"
     ]
    }
   ],
   "source": [
    "def transition(env,s1,Pi):\n",
    "    # take in environment, state, and policy, and return reward, next state, and bool of terminal state\n",
    "    action = Pi(s1,env.action_space)\n",
    "    state, reward, done, _, _ = env.step(action)\n",
    "\n",
    "    return reward, state, done\n",
    "\n",
    "env= gym.make('CliffWalking-v0',render_mode='ansi')\n",
    "s0 = env.reset()[0]\n",
    "print(transition(env,s0,RandomPolicy)) \n",
    "env.close()"
   ]
  },
  {
   "cell_type": "code",
   "execution_count": 173,
   "metadata": {},
   "outputs": [
    {
     "name": "stdout",
     "output_type": "stream",
     "text": [
      "(-1, 24, False)\n",
      "(-1, 12, False)\n",
      "(-1, 0, False)\n",
      "(-1, 0, False)\n",
      "(-1, 0, False)\n",
      "(-1, 0, False)\n",
      "(-1, 0, False)\n",
      "(-1, 0, False)\n",
      "(-1, 0, False)\n",
      "(-1, 0, False)\n",
      "time: 12.5 ms (started: 2023-11-16 11:25:17 +01:00)\n"
     ]
    }
   ],
   "source": [
    "# do some policy 10 times\n",
    "env = gym.make('CliffWalking-v0',render_mode='ansi')\n",
    "s0 = env.reset()[0]\n",
    "for i in range(10):\n",
    "    print(transition(env,s0,GoUpPolicy))\n",
    "env.close()\n"
   ]
  },
  {
   "cell_type": "markdown",
   "metadata": {},
   "source": [
    "**Q.5 Build a function ```SimulateTrajectory(T,policy)``` that simulate the behavior of an agent that start at an initial state, chose its next states using ```policy(state,action_space)``` function and keep trace of the state visited and the rewards obtained. It stops after ```T``` steps or if it encounters a terminal state. Use this function to plot the Cumulated Discounted Reward for multiple initialisations**\n",
    ">(Hint: you can use the function defined in question Q.4)"
   ]
  },
  {
   "cell_type": "code",
   "execution_count": 174,
   "metadata": {},
   "outputs": [
    {
     "data": {
      "image/png": "[encoded data removed]",
      "text/plain": [
       "<Figure size 640x480 with 1 Axes>"
      ]
     },
     "metadata": {},
     "output_type": "display_data"
    },
    {
     "name": "stdout",
     "output_type": "stream",
     "text": [
      "time: 409 ms (started: 2023-11-16 11:25:19 +01:00)\n"
     ]
    }
   ],
   "source": [
    "def SimulateTrajectory(T,policy):\n",
    "    \"\"\"return a vector of T successive states and a vector of T successive immediate rewards\"\"\"\n",
    "    env = gym.make('CliffWalking-v0',render_mode='ansi')\n",
    "    s0 = env.reset()[0]\n",
    "    states = [s0]\n",
    "    rewards = []\n",
    "    for t in range(T):\n",
    "        r,s,done = transition(env,states[-1],policy)\n",
    "        states.append(s)\n",
    "        rewards.append(r)\n",
    "        if done:\n",
    "            break\n",
    "    env.close()\n",
    "    return states,rewards\n",
    "\n",
    "gamma = 0.9 # discount factor \n",
    "T = int(np.log(1/(0.001*(1-gamma)))/np.log(1/gamma)) # truncation of the infinite sum \n",
    "States1,Rewards1 = SimulateTrajectory(T, RandomPolicy)\n",
    "\n",
    "# Plot cumulative discounted reward (on a single run):\n",
    "plt.figure()\n",
    "plt.plot(np.cumsum(Rewards1*np.array([gamma**t for t in range(T)])),label=\"Policy\")\n",
    "\n",
    "plt.xlabel('steps')\n",
    "plt.ylabel('cumulated discounted reward')\n",
    "plt.legend()\n",
    "plt.grid()\n",
    "plt.show()\n"
   ]
  },
  {
   "cell_type": "markdown",
   "metadata": {},
   "source": [
    "$ \\frac{log(\\frac{1}{(10^{-3}*(1-\\gamma))})}{log(\\frac{1}{\\gamma})} $"
   ]
  },
  {
   "cell_type": "markdown",
   "metadata": {},
   "source": [
    "**Q.6 Implement the optimal policy and display a corresponding trajectory from the initial state.**"
   ]
  },
  {
   "cell_type": "code",
   "execution_count": 175,
   "metadata": {},
   "outputs": [
    {
     "name": "stdout",
     "output_type": "stream",
     "text": [
      "time: 1.11 ms (started: 2023-11-16 11:25:21 +01:00)\n"
     ]
    }
   ],
   "source": [
    "def OptimalPolicy(state, action_space):\n",
    "    if state==36:\n",
    "        return 0\n",
    "    elif state in [11, 23, 35]:\n",
    "        return 2\n",
    "    else:\n",
    "        return 1"
   ]
  },
  {
   "cell_type": "code",
   "execution_count": 176,
   "metadata": {},
   "outputs": [
    {
     "data": {
      "image/png": "[encoded data removed]",
      "text/plain": [
       "<Figure size 640x480 with 1 Axes>"
      ]
     },
     "metadata": {},
     "output_type": "display_data"
    },
    {
     "name": "stdout",
     "output_type": "stream",
     "text": [
      "time: 310 ms (started: 2023-11-16 11:25:21 +01:00)\n"
     ]
    }
   ],
   "source": [
    "States1,Rewards1 = SimulateTrajectory(T, OptimalPolicy)\n",
    "\n",
    "# Plot cumulative discounted reward (on a single run):\n",
    "plt.figure()\n",
    "plt.plot(np.cumsum(Rewards1*np.array([gamma**t for t in range(len(States1)-1)])),label=\"Policy\")\n",
    "\n",
    "plt.xlabel('steps')\n",
    "plt.ylabel('cumulated discounted reward')\n",
    "plt.legend()\n",
    "plt.grid()\n",
    "plt.show()"
   ]
  },
  {
   "cell_type": "markdown",
   "metadata": {},
   "source": [
    "# Dynamic Programming"
   ]
  },
  {
   "cell_type": "markdown",
   "metadata": {},
   "source": [
    "In order to use our dynamic programming algorithms, we need to know the parameters of the MDP. \n",
    "Here we know the reward and transition model. "
   ]
  },
  {
   "cell_type": "markdown",
   "metadata": {},
   "source": [
    "**Q.7 Fill the reward array ```r[s,a]```, the transition array ```p[s,a,s']``` and the terminal array ```T[s]``` that return a boolean if the state is terminal.**\n"
   ]
  },
  {
   "cell_type": "markdown",
   "metadata": {},
   "source": [
    "> Hint : You can look at https://github.com/openai/gym/blob/master/gym/envs/toy_text/cliffwalking.py"
   ]
  },
  {
   "cell_type": "code",
   "execution_count": 186,
   "metadata": {},
   "outputs": [
    {
     "name": "stdout",
     "output_type": "stream",
     "text": [
      "time: 16.7 ms (started: 2023-11-16 11:28:29 +01:00)\n"
     ]
    },
    {
     "name": "stderr",
     "output_type": "stream",
     "text": [
      "/home/dorin/miniconda3/envs/uni_env/lib/python3.10/site-packages/gymnasium/core.py:311: UserWarning: \u001b[33mWARN: env.P to get variables from other wrappers is deprecated and will be removed in v1.0, to get this variable you can do `env.unwrapped.P` for environment variables or `env.get_wrapper_attr('P')` that will search the reminding wrappers.\u001b[0m\n",
      "  logger.warn(\n"
     ]
    }
   ],
   "source": [
    "# Can be useful \n",
    "def number_to_grid(x): # Convert a state number into its coordinates on the grid.\n",
    "    return(np.unravel_index(np.array(x),shape=(4,12)))\n",
    "\n",
    "def grid_to_number(x):\n",
    "    return(np.ravel_multi_index(x,(4,12)))\n",
    "\n",
    "\n",
    "# MDP parameters\n",
    "nb_states = 48\n",
    "nb_actions = 4\n",
    "P = np.zeros((nb_states,nb_actions,nb_states)) # P[s,a,s'] = p(s' | s,a) \n",
    "r = np.zeros((nb_states,nb_actions)) # r[s,a] =  reward received in state s when playing action a\n",
    "T = np.zeros(nb_states,dtype=bool) # T[s] = True if s is a terminal state\n",
    "# Fill P and r\n",
    "env = gym.make('CliffWalking-v0',render_mode='ansi')\n",
    "for s in range(nb_states):\n",
    "    for a in range(nb_actions):\n",
    "        for prob, next_state, reward, done in env.P[s][a]:\n",
    "            P[s,a,next_state] = prob\n",
    "            r[s,a] = reward\n",
    "            T[s] = done\n",
    "r[35][2] = 0\n",
    "\n",
    "# evaluate only on not terminal states"
   ]
  },
  {
   "cell_type": "code",
   "execution_count": 182,
   "metadata": {},
   "outputs": [
    {
     "name": "stdout",
     "output_type": "stream",
     "text": [
      "time: 998 µs (started: 2023-11-16 11:26:22 +01:00)\n"
     ]
    }
   ],
   "source": [
    "def sample_next_state(P,s,a): # sampling method for next state given current state and action\n",
    "    return np.random.choice(range(nb_states), 1, p=P[s,a])[0]"
   ]
  },
  {
   "cell_type": "markdown",
   "metadata": {},
   "source": [
    "### Policy Iteration"
   ]
  },
  {
   "cell_type": "markdown",
   "metadata": {},
   "source": [
    "In this section, we will consider deterministic policies. A deterministic policy  is represented as a vector pi[s] with s a state. "
   ]
  },
  {
   "cell_type": "code",
   "execution_count": 192,
   "metadata": {},
   "outputs": [
    {
     "name": "stdout",
     "output_type": "stream",
     "text": [
      "time: 740 µs (started: 2023-11-16 11:29:30 +01:00)\n"
     ]
    }
   ],
   "source": [
    "example_pi =  np.random.choice([0,1,2,3], nb_states)  # An example of random deterministic policy"
   ]
  },
  {
   "cell_type": "code",
   "execution_count": 193,
   "metadata": {},
   "outputs": [
    {
     "name": "stdout",
     "output_type": "stream",
     "text": [
      "The action from state 13 is 2\n",
      "time: 752 µs (started: 2023-11-16 11:29:36 +01:00)\n"
     ]
    }
   ],
   "source": [
    "state = 13\n",
    "print(f\"The action from state {state} is {example_pi[state]}\")"
   ]
  },
  {
   "cell_type": "markdown",
   "metadata": {},
   "source": [
    "**Q.8 Using the Bellman equations, build a function for evaluating the state-value function $V_\\pi$ of a policy $\\pi$ iteratively. We consider convergence with $\\epsilon = 0.01$ or if we performed a maximum of 10000 iterations.**\n",
    "> Hint : you can look at Sutton & Barto , Reinforcement Learning, An introduction, chapter 4"
   ]
  },
  {
   "cell_type": "code",
   "execution_count": null,
   "metadata": {},
   "outputs": [],
   "source": [
    "epsilon = 0.01\n",
    "max_iter = 10000\n",
    "def policy_evaluation(policy, epsilon, gamma, max_iter):\n",
    "    V = -200*np.ones(nb_states) # intialize Values to 0's\n",
    "    "
   ]
  },
  {
   "cell_type": "markdown",
   "metadata": {},
   "source": [
    "**Q.9 Build a policy improvement function**"
   ]
  },
  {
   "cell_type": "code",
   "execution_count": null,
   "metadata": {},
   "outputs": [],
   "source": [
    "def policy_improve(V, policy):\n",
    "    return policy\n",
    "    # TO IMPLEMENT"
   ]
  },
  {
   "cell_type": "markdown",
   "metadata": {},
   "source": [
    "**Q.10 Using the two preceding functions, build the Policy Iteration algorithm**"
   ]
  },
  {
   "cell_type": "code",
   "execution_count": null,
   "metadata": {},
   "outputs": [],
   "source": [
    "def policy_iteration(epsilon,gamma,max_iter):\n",
    "    #TO IMPLEMENT\n",
    "    pass"
   ]
  },
  {
   "cell_type": "code",
   "execution_count": null,
   "metadata": {},
   "outputs": [],
   "source": [
    "epsilon = 0.01\n",
    "gamma = 0.9\n",
    "max_iter = 10000\n",
    "policy = policy_iteration(epsilon, gamma, max_iter)\n",
    "print(policy.reshape(4,12))"
   ]
  },
  {
   "cell_type": "markdown",
   "metadata": {},
   "source": [
    "**Q.11 Test your obtained policy and compare it against random policies. Is it optimal ?** "
   ]
  },
  {
   "cell_type": "markdown",
   "metadata": {},
   "source": [
    "### Value Iteration"
   ]
  },
  {
   "cell_type": "markdown",
   "metadata": {},
   "source": [
    "**Q.12 Similarly to the Policy Iteration algorithm, build the Value Iteration Algorithm and test it.**"
   ]
  },
  {
   "cell_type": "markdown",
   "metadata": {},
   "source": [
    "# Our first sampling algorithm"
   ]
  },
  {
   "cell_type": "markdown",
   "metadata": {},
   "source": [
    "Now we don't have access to the Reward and Transitions table anymore ! We will have to explore to build our knowledge of an estimation of the action-value Q(s,a) along the way."
   ]
  },
  {
   "cell_type": "markdown",
   "metadata": {},
   "source": [
    "**Q.13 Read the pseudo-code for the Monte Carlo Exploring Starts algorithms. Describe briefly how the algorithm allows in theory to get a good policy.**\n",
    "![Alt text](image.png)"
   ]
  },
  {
   "cell_type": "markdown",
   "metadata": {},
   "source": [
    "**Q.14 Why can this algorithm be not efficient ?**"
   ]
  },
  {
   "cell_type": "markdown",
   "metadata": {},
   "source": [
    "**Q.15  Implement a Monte Carlo Exploring Starts algorithm.**\n",
    "\n",
    "We will store action-value information in a table q[s,a] that will be updated at each episode. \n",
    "\n",
    "You will need :\n",
    "- To store ```pi```, ```q[s,a]``` as tables and ```Returns(s,a)``` as a list of cumulative discounted rewards\n",
    "- To reset the environment for each episode. \n",
    "- To use the ```step()``` method to act on the environment \n",
    "- To update your knowledge of q on the trajectory of the episode.\n",
    "- To update the current policy given the update of q.\n"
   ]
  },
  {
   "cell_type": "markdown",
   "metadata": {},
   "source": [
    "**Q.16 Visualize the obtained policy after training over some iterations and conclude**"
   ]
  }
 ],
 "metadata": {
  "kernelspec": {
   "display_name": "Python 3 (ipykernel)",
   "language": "python",
   "name": "python3"
  },
  "language_info": {
   "codemirror_mode": {
    "name": "ipython",
    "version": 3
   },
   "file_extension": ".py",
   "mimetype": "text/x-python",
   "name": "python",
   "nbconvert_exporter": "python",
   "pygments_lexer": "ipython3",
   "version": "3.10.8"
  },
  "vscode": {
   "interpreter": {
    "hash": "6d3bda9ce93bcf6253578f72b020ff104c4a49c94ced054907684331a902bb6b"
   }
  }
 },
 "nbformat": 4,
 "nbformat_minor": 2
}
