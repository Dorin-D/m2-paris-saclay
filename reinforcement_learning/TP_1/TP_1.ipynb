{
 "cells": [
  {
   "cell_type": "markdown",
   "metadata": {},
   "source": [
    "# TP 1 - Reinforcement Learning (November 16rd)"
   ]
  },
  {
   "cell_type": "markdown",
   "metadata": {},
   "source": [
    "Name : Dorin Doncenco"
   ]
  },
  {
   "cell_type": "markdown",
   "metadata": {},
   "source": [
    "### Instructions\n",
    "This assignement will be a discovery of a library for working with RL problems,   an implementation of Policy Iteration and Value Iteration algorithm and the first implementation of a sampling-based algorithm.\n",
    "\n",
    "We used the Cliff Walking Environment (also from Sutton's book).\n",
    "\n",
    "    Adapted from Example 6.6 (page 132) from Reinforcement Learning: An Introduction\n",
    "    by Sutton and Barto:\n",
    "    The board is a 4x12 matrix, with (using Numpy matrix indexing):\n",
    "        [3, 0] as the start at bottom-left\n",
    "        [3, 11] as the goal at bottom-right\n",
    "        [3, 1..10] as the cliff at bottom-center\n",
    "    Each time step incurs -1 reward, and stepping into the cliff incurs -100 reward\n",
    "    and a reset to the start. An episode terminates when the agent reaches the goal.\n",
    "\n",
    "(https://gymnasium.farama.org/_images/cliff_walking.gif \"Cliff Walking\")\n",
    "\n",
    "- Save this notebook in a ```.ipynb``` format and send it to cyriaque.rousselot(at)inria(dot)fr with the name ```TP1_NAME_SURNAME``` before November 23th.\n",
    "- Make sure to comment your code and explain your decisions clearly. Write explanations in text if necessary \n",
    "- Answers must be short and precise and don't require thousands lines of code. \n",
    "- Generally, the code to complete is indicated with the comment ```#TO IMPLEMENT```\n",
    "Good luck !\n"
   ]
  },
  {
   "cell_type": "markdown",
   "metadata": {},
   "source": [
    "## A gentle start with Gymnasium"
   ]
  },
  {
   "cell_type": "markdown",
   "metadata": {},
   "source": [
    "Have a look at the documentation of gymnasium https://gymnasium.farama.org/content/basic_usage/, of environments https://gymnasium.farama.org/api/env/ and of the Cliff Walking Environment https://gymnasium.farama.org/environments/toy_text/cliff_walking/. \n"
   ]
  },
  {
   "cell_type": "markdown",
   "metadata": {},
   "source": [
    "> You can use multiple render_mode in a gym environment class. For simplicity, I will ask you to render the environment in ansi mode to display it in the notebook."
   ]
  },
  {
   "cell_type": "markdown",
   "metadata": {},
   "source": [
    "**Q.1 Display the Action Space / State space of the CliffWalking environment**"
   ]
  },
  {
   "cell_type": "code",
   "execution_count": 1,
   "metadata": {},
   "outputs": [
    {
     "name": "stdout",
     "output_type": "stream",
     "text": [
      "time: 0 ns (started: 2023-11-19 11:16:42 +01:00)\n"
     ]
    }
   ],
   "source": [
    "try:\n",
    "    %load_ext autotime\n",
    "except:\n",
    "    !pip install ipython-autotime\n",
    "    %load_ext autotime"
   ]
  },
  {
   "cell_type": "code",
   "execution_count": 2,
   "metadata": {},
   "outputs": [
    {
     "name": "stdout",
     "output_type": "stream",
     "text": [
      "==========Load the environment==========\n",
      "==========Visualize the environment==========\n",
      "o  o  o  o  o  o  o  o  o  o  o  o\n",
      "o  o  o  o  o  o  o  o  o  o  o  o\n",
      "o  o  o  o  o  o  o  o  o  o  o  o\n",
      "x  C  C  C  C  C  C  C  C  C  C  T\n",
      "\n",
      "\n",
      "==========Action Space==========\n",
      "Discrete(4)\n",
      "==========State Space==========\n",
      "Discrete(48)\n",
      "time: 1.05 s (started: 2023-11-19 11:16:43 +01:00)\n"
     ]
    }
   ],
   "source": [
    "import numpy as np\n",
    "import gymnasium as gym\n",
    "from matplotlib import pyplot as plt\n",
    "import time \n",
    "\n",
    "print(\"=\"*10 + \"Load the environment\"+\"=\"*10)\n",
    "env = gym.make('CliffWalking-v0', render_mode=\"ansi\") # Initialize the environment object\n",
    "observation, info = env.reset(seed=42) # Reset the environment\n",
    "\n",
    "print(\"=\"*10 + \"Visualize the environment\"+\"=\"*10)\n",
    "print(env.render()) # The Cliff Walking Environment in ANSI \n",
    "\n",
    "## Action Space\n",
    "nb_actions = 4\n",
    "print(\"=\"*10 + \"Action Space\"+\"=\"*10)\n",
    "action_space = env.action_space\n",
    "print(action_space)\n",
    "\n",
    "## State space\n",
    "nb_states = 48\n",
    "print(\"=\"*10 + \"State Space\"+\"=\"*10)\n",
    "state_space = env.observation_space\n",
    "print(state_space)\n",
    "\n",
    "env.close()"
   ]
  },
  {
   "cell_type": "markdown",
   "metadata": {},
   "source": [
    "### Use of a random policy"
   ]
  },
  {
   "cell_type": "markdown",
   "metadata": {},
   "source": [
    "**Q.2 Implement a policy that chose an action randomly from the action space and a policy that chose always the action \"go right\"**"
   ]
  },
  {
   "cell_type": "code",
   "execution_count": 3,
   "metadata": {},
   "outputs": [
    {
     "name": "stdout",
     "output_type": "stream",
     "text": [
      "time: 0 ns (started: 2023-11-19 11:16:45 +01:00)\n"
     ]
    }
   ],
   "source": [
    "def RandomPolicy(state,action_space):\n",
    "    #select random from action_space\n",
    "    return action_space.sample()\n",
    "    \n",
    "def GoRightPolicy(state,action_space):\n",
    "    #select right action, according to docs the action_space = [up,right,down,left]\n",
    "    return 1\n",
    "\n",
    "def GoUpPolicy(state,action_space):\n",
    "    #select up action, according to docs the action_space = [up,right,down,left]\n",
    "    return 0"
   ]
  },
  {
   "cell_type": "markdown",
   "metadata": {},
   "source": [
    "**Q.3 What is the meaning of the ouptut of the method ```step()``` of the environment class ?**"
   ]
  },
  {
   "cell_type": "code",
   "execution_count": 4,
   "metadata": {},
   "outputs": [
    {
     "name": "stdout",
     "output_type": "stream",
     "text": [
      "(36, -1, False, False, {'prob': 1.0})\n",
      "time: 0 ns (started: 2023-11-19 11:16:47 +01:00)\n"
     ]
    }
   ],
   "source": [
    "env = gym.make('CliffWalking-v0',render_mode=\"ansi\")\n",
    "env.reset()\n",
    "print(env.step(2))\n",
    "env.close()"
   ]
  },
  {
   "cell_type": "code",
   "execution_count": 5,
   "metadata": {},
   "outputs": [
    {
     "data": {
      "text/plain": [
       "(24, -1, False, False, {'prob': 1.0})"
      ]
     },
     "execution_count": 5,
     "metadata": {},
     "output_type": "execute_result"
    },
    {
     "name": "stdout",
     "output_type": "stream",
     "text": [
      "time: 0 ns (started: 2023-11-19 11:16:47 +01:00)\n"
     ]
    }
   ],
   "source": [
    "env.step(0)"
   ]
  },
  {
   "cell_type": "markdown",
   "metadata": {},
   "source": [
    "**A:** The output of the step method is the resulting state, the reward for that state, whether the state is terminal, whether the time limit is passed, and the transition probability."
   ]
  },
  {
   "cell_type": "markdown",
   "metadata": {},
   "source": [
    "**Q.4 Build a function ```transition(env,s1,Pi)``` that take in entry the environment, a state and a ```policy(state,action_space)``` function. It has to return the immediate reward ,the next state and a boolean that indicates if the next step is a terminal state.**"
   ]
  },
  {
   "cell_type": "code",
   "execution_count": 6,
   "metadata": {},
   "outputs": [
    {
     "name": "stdout",
     "output_type": "stream",
     "text": [
      "(-1, 36, False)\n",
      "time: 0 ns (started: 2023-11-19 11:16:49 +01:00)\n"
     ]
    }
   ],
   "source": [
    "def transition(env,s1,Pi):\n",
    "    # take in environment, state, and policy, and return reward, next state, and bool of terminal state\n",
    "    action = Pi(s1,env.action_space)\n",
    "    state, reward, done, _, _ = env.step(action)\n",
    "\n",
    "    return reward, state, done\n",
    "\n",
    "env= gym.make('CliffWalking-v0',render_mode='ansi')\n",
    "s0 = env.reset()[0]\n",
    "print(transition(env,s0,RandomPolicy)) \n",
    "env.close()"
   ]
  },
  {
   "cell_type": "code",
   "execution_count": 7,
   "metadata": {},
   "outputs": [
    {
     "name": "stdout",
     "output_type": "stream",
     "text": [
      "(-1, 24, False)\n",
      "(-1, 12, False)\n",
      "(-1, 0, False)\n",
      "(-1, 0, False)\n",
      "(-1, 0, False)\n",
      "(-1, 0, False)\n",
      "(-1, 0, False)\n",
      "(-1, 0, False)\n",
      "(-1, 0, False)\n",
      "(-1, 0, False)\n",
      "time: 0 ns (started: 2023-11-19 11:16:49 +01:00)\n"
     ]
    }
   ],
   "source": [
    "# do some policy 10 times\n",
    "env = gym.make('CliffWalking-v0',render_mode='ansi')\n",
    "s0 = env.reset()[0]\n",
    "for i in range(10):\n",
    "    print(transition(env,s0,GoUpPolicy))\n",
    "env.close()\n"
   ]
  },
  {
   "cell_type": "markdown",
   "metadata": {},
   "source": [
    "**Q.5 Build a function ```SimulateTrajectory(T,policy)``` that simulate the behavior of an agent that start at an initial state, chose its next states using ```policy(state,action_space)``` function and keep trace of the state visited and the rewards obtained. It stops after ```T``` steps or if it encounters a terminal state. Use this function to plot the Cumulated Discounted Reward for multiple initialisations**\n",
    ">(Hint: you can use the function defined in question Q.4)"
   ]
  },
  {
   "cell_type": "markdown",
   "metadata": {},
   "source": [
    "$ \\frac{log(\\frac{1}{(10^{-3}*(1-\\gamma))})}{log(\\frac{1}{\\gamma})} $"
   ]
  },
  {
   "cell_type": "code",
   "execution_count": 8,
   "metadata": {},
   "outputs": [
    {
     "data": {
      "image/png": "[encoded data removed]",
      "text/plain": [
       "<Figure size 640x480 with 1 Axes>"
      ]
     },
     "metadata": {},
     "output_type": "display_data"
    },
    {
     "name": "stdout",
     "output_type": "stream",
     "text": [
      "time: 219 ms (started: 2023-11-19 11:16:50 +01:00)\n"
     ]
    }
   ],
   "source": [
    "def SimulateTrajectory(T,policy):\n",
    "    \"\"\"return a vector of T successive states and a vector of T successive immediate rewards\"\"\"\n",
    "    env = gym.make('CliffWalking-v0',render_mode='ansi')\n",
    "    s0 = env.reset()[0]\n",
    "    states = [s0]\n",
    "    rewards = []\n",
    "    for t in range(T):\n",
    "        r,s,done = transition(env,states[-1],policy)\n",
    "        states.append(s)\n",
    "        rewards.append(r)\n",
    "        if done:\n",
    "            break\n",
    "    env.close()\n",
    "    return states,rewards\n",
    "\n",
    "gamma = 0.9 # discount factor \n",
    "T = int(np.log(1/(0.001*(1-gamma)))/np.log(1/gamma)) # truncation of the infinite sum \n",
    "States1,Rewards1 = SimulateTrajectory(T, RandomPolicy)\n",
    "\n",
    "# Plot cumulative discounted reward (on a single run):\n",
    "plt.figure()\n",
    "plt.plot(np.cumsum(Rewards1*np.array([gamma**t for t in range(T)])),label=\"Policy\")\n",
    "\n",
    "plt.xlabel('steps')\n",
    "plt.ylabel('cumulated discounted reward')\n",
    "plt.legend()\n",
    "plt.grid()\n",
    "plt.show()\n"
   ]
  },
  {
   "cell_type": "markdown",
   "metadata": {},
   "source": [
    "**Q.6 Implement the optimal policy and display a corresponding trajectory from the initial state.**"
   ]
  },
  {
   "cell_type": "code",
   "execution_count": 9,
   "metadata": {},
   "outputs": [
    {
     "name": "stdout",
     "output_type": "stream",
     "text": [
      "time: 0 ns (started: 2023-11-19 11:16:51 +01:00)\n"
     ]
    }
   ],
   "source": [
    "def OptimalPolicy(state, action_space):\n",
    "    if state==36:\n",
    "        return 0\n",
    "    elif state in [11, 23, 35]:\n",
    "        return 2\n",
    "    else:\n",
    "        return 1"
   ]
  },
  {
   "cell_type": "code",
   "execution_count": 10,
   "metadata": {},
   "outputs": [
    {
     "data": {
      "image/png": "[encoded data removed]",
      "text/plain": [
       "<Figure size 640x480 with 1 Axes>"
      ]
     },
     "metadata": {},
     "output_type": "display_data"
    },
    {
     "name": "stdout",
     "output_type": "stream",
     "text": [
      "time: 125 ms (started: 2023-11-19 11:16:52 +01:00)\n"
     ]
    }
   ],
   "source": [
    "States1,Rewards1 = SimulateTrajectory(T, OptimalPolicy)\n",
    "\n",
    "# Plot cumulative discounted reward (on a single run):\n",
    "plt.figure()\n",
    "plt.plot(np.cumsum(Rewards1*np.array([gamma**t for t in range(len(States1)-1)])),label=\"Policy\")\n",
    "\n",
    "plt.xlabel('steps')\n",
    "plt.ylabel('cumulated discounted reward')\n",
    "plt.legend()\n",
    "plt.grid()\n",
    "plt.show()"
   ]
  },
  {
   "cell_type": "markdown",
   "metadata": {},
   "source": [
    "# Dynamic Programming"
   ]
  },
  {
   "cell_type": "markdown",
   "metadata": {},
   "source": [
    "In order to use our dynamic programming algorithms, we need to know the parameters of the MDP. \n",
    "Here we know the reward and transition model. "
   ]
  },
  {
   "cell_type": "markdown",
   "metadata": {},
   "source": [
    "**Q.7 Fill the reward array ```r[s,a]```, the transition array ```p[s,a,s']``` and the terminal array ```T[s]``` that return a boolean if the state is terminal.**\n"
   ]
  },
  {
   "cell_type": "markdown",
   "metadata": {},
   "source": [
    "> Hint : You can look at https://github.com/openai/gym/blob/master/gym/envs/toy_text/cliffwalking.py"
   ]
  },
  {
   "cell_type": "code",
   "execution_count": 11,
   "metadata": {},
   "outputs": [
    {
     "name": "stdout",
     "output_type": "stream",
     "text": [
      "time: 16 ms (started: 2023-11-19 11:16:54 +01:00)\n"
     ]
    },
    {
     "name": "stderr",
     "output_type": "stream",
     "text": [
      "c:\\Users\\deus-diabolus\\miniconda3\\envs\\uni_env\\Lib\\site-packages\\gymnasium\\core.py:311: UserWarning: \u001b[33mWARN: env.P to get variables from other wrappers is deprecated and will be removed in v1.0, to get this variable you can do `env.unwrapped.P` for environment variables or `env.get_wrapper_attr('P')` that will search the reminding wrappers.\u001b[0m\n",
      "  logger.warn(\n"
     ]
    }
   ],
   "source": [
    "# Can be useful \n",
    "def number_to_grid(x): # Convert a state number into its coordinates on the grid.\n",
    "    return(np.unravel_index(np.array(x),shape=(4,12)))\n",
    "\n",
    "def grid_to_number(x):\n",
    "    return(np.ravel_multi_index(x,(4,12)))\n",
    "\n",
    "\n",
    "# MDP parameters\n",
    "nb_states = 48\n",
    "nb_actions = 4\n",
    "P = np.zeros((nb_states,nb_actions,nb_states)) # P[s,a,s'] = p(s' | s,a) \n",
    "r = np.zeros((nb_states,nb_actions)) # r[s,a] =  reward received in state s when playing action a\n",
    "T = np.zeros(nb_states,dtype=bool) # T[s] = True if s is a terminal state\n",
    "# Fill P and r\n",
    "env = gym.make('CliffWalking-v0',render_mode='ansi')\n",
    "for s in range(nb_states):\n",
    "    for a in range(nb_actions):\n",
    "        for prob, next_state, reward, done in env.P[s][a]:\n",
    "            P[s,a,next_state] = prob\n",
    "            r[s,a] = reward\n",
    "            T[s] = done\n",
    "\n",
    "# set the rewards for getting into the final state and any action from the final state to 0\n",
    "r[35][2] = 0\n",
    "r[47][0] = 0\n",
    "r[47][1] = 0\n",
    "r[47][2] = 0\n",
    "r[47][3] = 0"
   ]
  },
  {
   "cell_type": "code",
   "execution_count": 12,
   "metadata": {},
   "outputs": [
    {
     "name": "stdout",
     "output_type": "stream",
     "text": [
      "time: 0 ns (started: 2023-11-19 11:16:54 +01:00)\n"
     ]
    }
   ],
   "source": [
    "def sample_next_state(P,s,a): # sampling method for next state given current state and action\n",
    "    return np.random.choice(range(nb_states), 1, p=P[s,a])[0]"
   ]
  },
  {
   "cell_type": "markdown",
   "metadata": {},
   "source": [
    "### Policy Iteration"
   ]
  },
  {
   "cell_type": "markdown",
   "metadata": {},
   "source": [
    "In this section, we will consider deterministic policies. A deterministic policy  is represented as a vector pi[s] with s a state. "
   ]
  },
  {
   "cell_type": "code",
   "execution_count": 13,
   "metadata": {},
   "outputs": [
    {
     "name": "stdout",
     "output_type": "stream",
     "text": [
      "time: 0 ns (started: 2023-11-19 11:16:55 +01:00)\n"
     ]
    }
   ],
   "source": [
    "example_pi_actions =  np.random.choice([0,1,2,3], nb_states)  # An example of random deterministic policy\n",
    "example_pi = np.zeros((nb_states,nb_actions))\n",
    "for s in range(nb_states):\n",
    "    example_pi[s,example_pi_actions[s]] = 1.0"
   ]
  },
  {
   "cell_type": "code",
   "execution_count": 14,
   "metadata": {},
   "outputs": [
    {
     "name": "stdout",
     "output_type": "stream",
     "text": [
      "time: 0 ns (started: 2023-11-19 11:16:55 +01:00)\n"
     ]
    }
   ],
   "source": [
    "# pi[s][a] = probability of taking action a in state s\n",
    "optimal_pi = np.zeros((nb_states,nb_actions))\n",
    "for s in range(nb_states):\n",
    "    optimal_pi[s,OptimalPolicy(s,env.action_space)] = 1"
   ]
  },
  {
   "cell_type": "code",
   "execution_count": 15,
   "metadata": {},
   "outputs": [
    {
     "name": "stdout",
     "output_type": "stream",
     "text": [
      "The action from state 13 is [0. 0. 0. 1.]\n",
      "time: 0 ns (started: 2023-11-19 11:16:56 +01:00)\n"
     ]
    }
   ],
   "source": [
    "state = 13\n",
    "print(f\"The action from state {state} is {example_pi[state]}\")"
   ]
  },
  {
   "cell_type": "markdown",
   "metadata": {},
   "source": [
    "**Q.8 Using the Bellman equations, build a function for evaluating the state-value function $V_\\pi$ of a policy $\\pi$ iteratively. We consider convergence with $\\epsilon = 0.01$ or if we performed a maximum of 10000 iterations.**\n",
    "> Hint : you can look at Sutton & Barto , Reinforcement Learning, An introduction, chapter 4"
   ]
  },
  {
   "cell_type": "code",
   "execution_count": 16,
   "metadata": {},
   "outputs": [
    {
     "name": "stdout",
     "output_type": "stream",
     "text": [
      "time: 0 ns (started: 2023-11-19 11:16:57 +01:00)\n"
     ]
    }
   ],
   "source": [
    "epsilon = 0.01\n",
    "max_iter = 10000\n",
    "def policy_evaluation(policy, epsilon, gamma, max_iter):\n",
    "    V = np.zeros(nb_states) # intialize Values\n",
    "    for i in range(max_iter):\n",
    "        V_new = np.zeros(nb_states)\n",
    "        for s in range(nb_states):\n",
    "            for a in range(nb_actions):\n",
    "                V_new[s] += policy[s][a] * P[s,a,:] @ (r[s,a] + gamma * V)\n",
    "        if np.max(np.abs(V_new - V)) < epsilon:\n",
    "            break\n",
    "        V = V_new\n",
    "    return V\n",
    "    "
   ]
  },
  {
   "cell_type": "code",
   "execution_count": 17,
   "metadata": {},
   "outputs": [
    {
     "name": "stdout",
     "output_type": "stream",
     "text": [
      "[  -9.90302263   -9.90302263  -90.09302263   -9.90302263   -9.90302263\n",
      "   -9.90302263   -9.90302263   -9.90302263   -9.90302263   -9.90302263\n",
      "   -9.90302263   -9.90302263   -9.90302263   -9.90302263  -99.00302263\n",
      "   -9.90302263   -9.90302263   -9.90302263   -9.90302263  -90.09302263\n",
      "  -99.00302263   -9.90302263   -9.90302263   -9.90302263   -9.90302263\n",
      "   -9.90302263 -108.90302263 -108.90302263 -108.90302263 -108.90302263\n",
      "   -9.90302263  -82.07402263 -108.90302263   -9.90302263 -108.90302263\n",
      "  -99.00302263   -9.90302263 -108.90302263 -108.90302263 -108.90302263\n",
      "  -99.00302263 -108.90302263 -108.90302263 -108.90302263 -108.90302263\n",
      "   -9.90302263 -108.90302263   -8.90302263]\n",
      "time: 47 ms (started: 2023-11-19 11:16:58 +01:00)\n"
     ]
    }
   ],
   "source": [
    "# compute the value function of the random policy\n",
    "V = policy_evaluation(example_pi, epsilon, gamma, max_iter)\n",
    "print(V)"
   ]
  },
  {
   "cell_type": "markdown",
   "metadata": {},
   "source": [
    "**Q.9 Build a policy improvement function**"
   ]
  },
  {
   "cell_type": "code",
   "execution_count": 18,
   "metadata": {},
   "outputs": [
    {
     "name": "stdout",
     "output_type": "stream",
     "text": [
      "time: 0 ns (started: 2023-11-19 11:16:58 +01:00)\n"
     ]
    }
   ],
   "source": [
    "def policy_improve(V, gamma):\n",
    "    Q = np.zeros((nb_states,nb_actions))\n",
    "    for s in range(nb_states):\n",
    "        for a in range(nb_actions):\n",
    "            Q[s,a] = P[s,a,:] @ (r[s,a] + gamma * V)\n",
    "    new_policy = np.zeros((nb_states,nb_actions))\n",
    "    new_policy[np.arange(nb_states),np.argmax(Q,axis=1)] = 1\n",
    "    return new_policy\n",
    "    "
   ]
  },
  {
   "cell_type": "code",
   "execution_count": 19,
   "metadata": {},
   "outputs": [
    {
     "name": "stdout",
     "output_type": "stream",
     "text": [
      "[  -9.90302263   -9.90302263  -90.09302263   -9.90302263   -9.90302263\n",
      "   -9.90302263   -9.90302263   -9.90302263   -9.90302263   -9.90302263\n",
      "   -9.90302263   -9.90302263   -9.90302263   -9.90302263  -99.00302263\n",
      "   -9.90302263   -9.90302263   -9.90302263   -9.90302263  -90.09302263\n",
      "  -99.00302263   -9.90302263   -9.90302263   -9.90302263   -9.90302263\n",
      "   -9.90302263 -108.90302263 -108.90302263 -108.90302263 -108.90302263\n",
      "   -9.90302263  -82.07402263 -108.90302263   -9.90302263 -108.90302263\n",
      "  -99.00302263   -9.90302263 -108.90302263 -108.90302263 -108.90302263\n",
      "  -99.00302263 -108.90302263 -108.90302263 -108.90302263 -108.90302263\n",
      "   -9.90302263 -108.90302263   -8.90302263]\n",
      "[[1. 0. 0. 0.]\n",
      " [1. 0. 0. 0.]\n",
      " [0. 1. 0. 0.]\n",
      " [1. 0. 0. 0.]\n",
      " [1. 0. 0. 0.]\n",
      " [1. 0. 0. 0.]\n",
      " [1. 0. 0. 0.]\n",
      " [1. 0. 0. 0.]\n",
      " [1. 0. 0. 0.]\n",
      " [1. 0. 0. 0.]\n",
      " [1. 0. 0. 0.]\n",
      " [1. 0. 0. 0.]\n",
      " [1. 0. 0. 0.]\n",
      " [1. 0. 0. 0.]\n",
      " [0. 1. 0. 0.]\n",
      " [1. 0. 0. 0.]\n",
      " [1. 0. 0. 0.]\n",
      " [1. 0. 0. 0.]\n",
      " [1. 0. 0. 0.]\n",
      " [1. 0. 0. 0.]\n",
      " [1. 0. 0. 0.]\n",
      " [1. 0. 0. 0.]\n",
      " [1. 0. 0. 0.]\n",
      " [1. 0. 0. 0.]\n",
      " [1. 0. 0. 0.]\n",
      " [1. 0. 0. 0.]\n",
      " [0. 0. 0. 1.]\n",
      " [1. 0. 0. 0.]\n",
      " [1. 0. 0. 0.]\n",
      " [1. 0. 0. 0.]\n",
      " [1. 0. 0. 0.]\n",
      " [0. 0. 0. 1.]\n",
      " [0. 1. 0. 0.]\n",
      " [1. 0. 0. 0.]\n",
      " [1. 0. 0. 0.]\n",
      " [0. 0. 1. 0.]\n",
      " [1. 0. 0. 0.]\n",
      " [1. 0. 0. 0.]\n",
      " [1. 0. 0. 0.]\n",
      " [1. 0. 0. 0.]\n",
      " [1. 0. 0. 0.]\n",
      " [1. 0. 0. 0.]\n",
      " [1. 0. 0. 0.]\n",
      " [1. 0. 0. 0.]\n",
      " [1. 0. 0. 0.]\n",
      " [1. 0. 0. 0.]\n",
      " [0. 1. 0. 0.]\n",
      " [0. 1. 0. 0.]]\n",
      "time: 46 ms (started: 2023-11-19 11:16:59 +01:00)\n"
     ]
    }
   ],
   "source": [
    "# compute the value function of the random policy\n",
    "V = policy_evaluation(example_pi, epsilon, gamma, max_iter)\n",
    "print(V)\n",
    "# improve the policy\n",
    "new_policy = policy_improve(V, gamma)\n",
    "print(new_policy)"
   ]
  },
  {
   "cell_type": "code",
   "execution_count": 20,
   "metadata": {},
   "outputs": [
    {
     "name": "stdout",
     "output_type": "stream",
     "text": [
      "time: 125 ms (started: 2023-11-19 11:16:59 +01:00)\n"
     ]
    }
   ],
   "source": [
    "V = policy_evaluation(new_policy, epsilon, gamma, max_iter)\n",
    "new_policy = policy_improve(V, gamma)\n",
    "V = policy_evaluation(new_policy, epsilon, gamma, max_iter)\n",
    "new_policy = policy_improve(V, gamma)\n",
    "V = policy_evaluation(new_policy, epsilon, gamma, max_iter)\n",
    "new_policy = policy_improve(V, gamma)"
   ]
  },
  {
   "cell_type": "code",
   "execution_count": 21,
   "metadata": {},
   "outputs": [
    {
     "data": {
      "text/plain": [
       "array([-9.90302263, -9.90302263, -9.90302263, -9.90302263, -9.90302263,\n",
       "       -9.90302263, -9.90302263, -9.90302263, -9.90302263, -9.90302263,\n",
       "       -2.71      , -1.9       , -9.90302263, -9.90302263, -9.90302263,\n",
       "       -9.90302263, -9.90302263, -9.90302263, -9.90302263, -9.90302263,\n",
       "       -9.90302263, -2.71      , -1.9       , -1.        , -9.90302263,\n",
       "       -9.90302263, -9.90302263, -9.90302263, -9.90302263, -9.90302263,\n",
       "       -9.90302263, -9.90302263, -2.71      , -1.9       , -1.        ,\n",
       "        0.        , -9.90302263, -9.90302263, -9.90302263, -9.90302263,\n",
       "       -9.90302263, -9.90302263, -9.90302263, -9.90302263, -3.439     ,\n",
       "       -2.71      , -1.        ,  0.        ])"
      ]
     },
     "execution_count": 21,
     "metadata": {},
     "output_type": "execute_result"
    },
    {
     "name": "stdout",
     "output_type": "stream",
     "text": [
      "time: 47 ms (started: 2023-11-19 11:17:00 +01:00)\n"
     ]
    }
   ],
   "source": [
    "policy_evaluation(new_policy, epsilon, gamma, max_iter)"
   ]
  },
  {
   "cell_type": "code",
   "execution_count": 22,
   "metadata": {},
   "outputs": [
    {
     "data": {
      "text/plain": [
       "array([[-9.90302263, -9.90302263, -9.90302263, -9.90302263, -9.90302263,\n",
       "        -9.90302263, -9.90302263, -9.90302263, -9.90302263, -9.90302263,\n",
       "        -9.90302263, -1.9       ],\n",
       "       [-9.90302263, -9.90302263, -9.90302263, -9.90302263, -9.90302263,\n",
       "        -9.90302263, -9.90302263, -9.90302263, -9.90302263, -9.90302263,\n",
       "        -1.9       , -1.        ],\n",
       "       [-9.90302263, -9.90302263, -9.90302263, -9.90302263, -9.90302263,\n",
       "        -9.90302263, -9.90302263, -9.90302263, -9.90302263, -1.9       ,\n",
       "        -1.        ,  0.        ],\n",
       "       [-9.90302263, -9.90302263, -9.90302263, -9.90302263, -9.90302263,\n",
       "        -9.90302263, -9.90302263, -9.90302263, -9.90302263, -2.71      ,\n",
       "        -1.        ,  0.        ]])"
      ]
     },
     "execution_count": 22,
     "metadata": {},
     "output_type": "execute_result"
    },
    {
     "name": "stdout",
     "output_type": "stream",
     "text": [
      "time: 0 ns (started: 2023-11-19 11:17:00 +01:00)\n"
     ]
    }
   ],
   "source": [
    "V.reshape(4,12)"
   ]
  },
  {
   "cell_type": "markdown",
   "metadata": {},
   "source": [
    "**Q.10 Using the two preceding functions, build the Policy Iteration algorithm**"
   ]
  },
  {
   "cell_type": "code",
   "execution_count": 23,
   "metadata": {},
   "outputs": [
    {
     "name": "stdout",
     "output_type": "stream",
     "text": [
      "time: 0 ns (started: 2023-11-19 11:17:01 +01:00)\n"
     ]
    }
   ],
   "source": [
    "def policy_iteration(epsilon,gamma,policy_iteration_max_iter,max_iter):\n",
    "    # initialize policy\n",
    "    policy = np.zeros((nb_states,nb_actions))\n",
    "    policy[np.arange(nb_states),np.random.choice([0,1,2,3], nb_states)] = 1.0\n",
    "    for i in range(policy_iteration_max_iter):\n",
    "        V = policy_evaluation(policy, epsilon, gamma, max_iter)\n",
    "        new_policy = policy_improve(V, gamma)\n",
    "        # if the policy has not changed, we converged\n",
    "        if np.all(policy == new_policy):\n",
    "            break\n",
    "        policy = new_policy\n",
    "    return policy,V"
   ]
  },
  {
   "cell_type": "code",
   "execution_count": 24,
   "metadata": {},
   "outputs": [
    {
     "name": "stdout",
     "output_type": "stream",
     "text": [
      "time: 563 ms (started: 2023-11-19 11:17:01 +01:00)\n"
     ]
    }
   ],
   "source": [
    "epsilon = 0.01\n",
    "gamma = 0.9\n",
    "policy_iteration_max_iter = 20\n",
    "max_iter = 10000\n",
    "policy, V = policy_iteration(epsilon, gamma, policy_iteration_max_iter, max_iter)"
   ]
  },
  {
   "cell_type": "code",
   "execution_count": 25,
   "metadata": {},
   "outputs": [
    {
     "name": "stdout",
     "output_type": "stream",
     "text": [
      "[[-7.46 -7.18 -6.86 -6.51 -6.13 -5.7  -5.22 -4.69 -4.1  -3.44 -2.71 -1.9 ]\n",
      " [-7.18 -6.86 -6.51 -6.13 -5.7  -5.22 -4.69 -4.1  -3.44 -2.71 -1.9  -1.  ]\n",
      " [-6.86 -6.51 -6.13 -5.7  -5.22 -4.69 -4.1  -3.44 -2.71 -1.9  -1.    0.  ]\n",
      " [-7.18 -6.86 -6.51 -6.13 -5.7  -5.22 -4.69 -4.1  -3.44 -2.71 -1.    0.  ]]\n",
      "time: 0 ns (started: 2023-11-19 11:17:02 +01:00)\n"
     ]
    }
   ],
   "source": [
    "print(V.reshape(4,12).round(2))"
   ]
  },
  {
   "cell_type": "code",
   "execution_count": 26,
   "metadata": {},
   "outputs": [
    {
     "data": {
      "text/plain": [
       "array([[1, 1, 1, 1, 1, 1, 1, 1, 1, 1, 1, 2],\n",
       "       [1, 1, 1, 1, 1, 1, 1, 1, 1, 1, 1, 2],\n",
       "       [1, 1, 1, 1, 1, 1, 1, 1, 1, 1, 1, 2],\n",
       "       [0, 0, 0, 0, 0, 0, 0, 0, 0, 0, 1, 0]], dtype=int64)"
      ]
     },
     "execution_count": 26,
     "metadata": {},
     "output_type": "execute_result"
    },
    {
     "name": "stdout",
     "output_type": "stream",
     "text": [
      "time: 0 ns (started: 2023-11-19 11:17:02 +01:00)\n"
     ]
    }
   ],
   "source": [
    "np.argmax(policy.reshape(4,12,4), axis=2)"
   ]
  },
  {
   "cell_type": "code",
   "execution_count": 27,
   "metadata": {},
   "outputs": [
    {
     "data": {
      "text/plain": [
       "array([[1, 1, 1, 1, 1, 1, 1, 1, 1, 1, 1, 2],\n",
       "       [1, 1, 1, 1, 1, 1, 1, 1, 1, 1, 1, 2],\n",
       "       [1, 1, 1, 1, 1, 1, 1, 1, 1, 1, 1, 2],\n",
       "       [0, 0, 0, 0, 0, 0, 0, 0, 0, 0, 1, 0]], dtype=int64)"
      ]
     },
     "execution_count": 27,
     "metadata": {},
     "output_type": "execute_result"
    },
    {
     "name": "stdout",
     "output_type": "stream",
     "text": [
      "time: 0 ns (started: 2023-11-19 11:17:03 +01:00)\n"
     ]
    }
   ],
   "source": [
    "#display the optimal action for each state according to the policy\n",
    "np.argmax(policy.reshape(4,12,4), axis=2)"
   ]
  },
  {
   "cell_type": "markdown",
   "metadata": {},
   "source": [
    "**Q.11 Test your obtained policy and compare it against random policies. Is it optimal ?** "
   ]
  },
  {
   "cell_type": "code",
   "execution_count": 28,
   "metadata": {},
   "outputs": [
    {
     "data": {
      "text/plain": [
       "array([-7.45813417, -7.17570464, -6.86189404, -6.5132156 , -6.12579511,\n",
       "       -5.6953279 , -5.217031  , -4.68559   , -4.0951    , -3.439     ,\n",
       "       -2.71      , -1.9       , -7.17570464, -6.86189404, -6.5132156 ,\n",
       "       -6.12579511, -5.6953279 , -5.217031  , -4.68559   , -4.0951    ,\n",
       "       -3.439     , -2.71      , -1.9       , -1.        , -6.86189404,\n",
       "       -6.5132156 , -6.12579511, -5.6953279 , -5.217031  , -4.68559   ,\n",
       "       -4.0951    , -3.439     , -2.71      , -1.9       , -1.        ,\n",
       "        0.        , -7.17570464, -6.86189404, -6.5132156 , -6.12579511,\n",
       "       -5.6953279 , -5.217031  , -4.68559   , -4.0951    , -3.439     ,\n",
       "       -2.71      , -1.        ,  0.        ])"
      ]
     },
     "execution_count": 28,
     "metadata": {},
     "output_type": "execute_result"
    },
    {
     "name": "stdout",
     "output_type": "stream",
     "text": [
      "time: 16 ms (started: 2023-11-19 11:17:03 +01:00)\n"
     ]
    }
   ],
   "source": [
    "policy_evaluation(policy, epsilon, gamma, max_iter)"
   ]
  },
  {
   "cell_type": "code",
   "execution_count": 29,
   "metadata": {},
   "outputs": [
    {
     "data": {
      "text/plain": [
       "array([  -9.90302263,   -9.90302263,  -90.09302263,   -9.90302263,\n",
       "         -9.90302263,   -9.90302263,   -9.90302263,   -9.90302263,\n",
       "         -9.90302263,   -9.90302263,   -9.90302263,   -9.90302263,\n",
       "         -9.90302263,   -9.90302263,  -99.00302263,   -9.90302263,\n",
       "         -9.90302263,   -9.90302263,   -9.90302263,  -90.09302263,\n",
       "        -99.00302263,   -9.90302263,   -9.90302263,   -9.90302263,\n",
       "         -9.90302263,   -9.90302263, -108.90302263, -108.90302263,\n",
       "       -108.90302263, -108.90302263,   -9.90302263,  -82.07402263,\n",
       "       -108.90302263,   -9.90302263, -108.90302263,  -99.00302263,\n",
       "         -9.90302263, -108.90302263, -108.90302263, -108.90302263,\n",
       "        -99.00302263, -108.90302263, -108.90302263, -108.90302263,\n",
       "       -108.90302263,   -9.90302263, -108.90302263,   -8.90302263])"
      ]
     },
     "execution_count": 29,
     "metadata": {},
     "output_type": "execute_result"
    },
    {
     "name": "stdout",
     "output_type": "stream",
     "text": [
      "time: 47 ms (started: 2023-11-19 11:17:03 +01:00)\n"
     ]
    }
   ],
   "source": [
    "policy_evaluation(example_pi, epsilon, gamma, max_iter)"
   ]
  },
  {
   "cell_type": "markdown",
   "metadata": {},
   "source": [
    "The policy computed is identical to the optimal policy we have previously determined, thus we know that it is optimal.\n",
    "\n",
    "We can also note that the evaluation of the computed policy is better than a random policy."
   ]
  },
  {
   "cell_type": "markdown",
   "metadata": {},
   "source": [
    "### Value Iteration"
   ]
  },
  {
   "cell_type": "markdown",
   "metadata": {},
   "source": [
    "**Q.12 Similarly to the Policy Iteration algorithm, build the Value Iteration Algorithm and test it.**"
   ]
  },
  {
   "cell_type": "code",
   "execution_count": 30,
   "metadata": {},
   "outputs": [
    {
     "name": "stdout",
     "output_type": "stream",
     "text": [
      "time: 0 ns (started: 2023-11-19 11:17:05 +01:00)\n"
     ]
    }
   ],
   "source": [
    "def value_iteration(epsilon,gamma,max_iter):\n",
    "    # P is the probability that an action will transition to a state from a state e.g. P[s,a,s'] = p(s' | s,a)\n",
    "    # r is the reward received in state s when playing action a e.g. r[s,a] =  reward received in state s when playing action a\n",
    "    # T[s] = True if s is a terminal state\n",
    "    # initialize values\n",
    "    V = np.zeros(nb_states)\n",
    "    for i in range(max_iter):\n",
    "        delta = 0\n",
    "        for s in range(nb_states):\n",
    "            # determine the next 4 states given actions 0,1,2,3\n",
    "            next_states = np.argmax(P[s,:,:],axis=1)\n",
    "            new_V = np.max(P[s,:,next_states] @ (r[next_states,:] + gamma * V[next_states]))\n",
    "            delta = max(delta, np.abs(new_V - V[s]))\n",
    "            V[s] = new_V\n",
    "        if delta < epsilon:\n",
    "            break\n",
    "    # get the optimal policy\n",
    "    policy = np.zeros(nb_states)\n",
    "    for s in range(nb_states):\n",
    "        next_states = np.argmax(P[s,:,:],axis=1)\n",
    "        #get the results for each action i.e. diagonally due to my suboptimal implementation\n",
    "        results = (P[s,:,next_states] @ (r[next_states,:] + gamma * V[next_states]))\n",
    "        # results will provide the value for the state and action taken, of shape [next_states.shape, nb_actions]\n",
    "        results = results[np.arange(len(next_states)), np.arange(nb_actions)] # get the diagonal\n",
    "        policy[s] = np.argmax(results)\n",
    "    return policy,V"
   ]
  },
  {
   "cell_type": "code",
   "execution_count": 31,
   "metadata": {},
   "outputs": [
    {
     "name": "stdout",
     "output_type": "stream",
     "text": [
      "time: 16 ms (started: 2023-11-19 11:17:05 +01:00)\n"
     ]
    }
   ],
   "source": [
    "# run value iteration\n",
    "epsilon = 0.001\n",
    "gamma = 0.9\n",
    "max_iter = 10000\n",
    "policy, V = value_iteration(epsilon, gamma, max_iter)\n"
   ]
  },
  {
   "cell_type": "code",
   "execution_count": 32,
   "metadata": {},
   "outputs": [
    {
     "name": "stdout",
     "output_type": "stream",
     "text": [
      "[[1. 1. 1. 1. 1. 1. 1. 1. 1. 1. 1. 2.]\n",
      " [1. 1. 1. 1. 1. 1. 1. 1. 1. 1. 1. 2.]\n",
      " [1. 1. 1. 1. 1. 1. 1. 1. 1. 1. 1. 2.]\n",
      " [0. 0. 0. 0. 0. 0. 0. 0. 0. 0. 1. 1.]]\n",
      "time: 0 ns (started: 2023-11-19 11:17:05 +01:00)\n"
     ]
    }
   ],
   "source": [
    "print(policy.reshape(4,12))"
   ]
  },
  {
   "cell_type": "code",
   "execution_count": 33,
   "metadata": {},
   "outputs": [
    {
     "name": "stdout",
     "output_type": "stream",
     "text": [
      "[[-7.18 -6.86 -6.51 -6.13 -5.7  -5.22 -4.69 -4.1  -3.44 -2.71 -1.9  -1.  ]\n",
      " [-6.86 -6.51 -6.13 -5.7  -5.22 -4.69 -4.1  -3.44 -2.71 -1.9  -1.    0.  ]\n",
      " [-6.86 -6.51 -6.13 -5.7  -5.22 -4.69 -4.1  -3.44 -2.71 -1.9  -1.    0.  ]\n",
      " [-7.18 -6.86 -6.51 -6.13 -5.7  -5.22 -4.69 -4.1  -3.44 -2.71  0.    0.  ]]\n",
      "time: 0 ns (started: 2023-11-19 11:17:06 +01:00)\n"
     ]
    }
   ],
   "source": [
    "print(V.reshape(4,12).round(2))"
   ]
  },
  {
   "cell_type": "markdown",
   "metadata": {},
   "source": [
    "# Our first sampling algorithm"
   ]
  },
  {
   "cell_type": "markdown",
   "metadata": {},
   "source": [
    "Now we don't have access to the Reward and Transitions table anymore ! We will have to explore to build our knowledge of an estimation of the action-value Q(s,a) along the way."
   ]
  },
  {
   "cell_type": "markdown",
   "metadata": {},
   "source": [
    "**Q.13 Read the pseudo-code for the Monte Carlo Exploring Starts algorithms. Describe briefly how the algorithm allows in theory to get a good policy.**\n",
    "![Alt text](image.png)"
   ]
  },
  {
   "cell_type": "markdown",
   "metadata": {},
   "source": [
    "The algorithm computes the average value of each action,state pair given previous episodes, and assigns the best action to the policy. Over enough episodes, this average will become accurate enough to allow the agent to converge to a solution.\n",
    "\n",
    "By choosing the $S_0, A_0$ randomly (regardless of the policy), we allow the algorithm to achieve states which would normally not be reached with a random determined policy (which is likely to have loops)."
   ]
  },
  {
   "cell_type": "markdown",
   "metadata": {},
   "source": [
    "**Q.14 Why can this algorithm be not efficient ?**"
   ]
  },
  {
   "cell_type": "markdown",
   "metadata": {},
   "source": [
    "Because as the algorithm is run, the lists in Returns(s,a) get bigger and computing their mean is more expensive as episodes progress."
   ]
  },
  {
   "cell_type": "markdown",
   "metadata": {},
   "source": [
    "**Q.15  Implement a Monte Carlo Exploring Starts algorithm.**\n",
    "\n",
    "We will store action-value information in a table q[s,a] that will be updated at each episode. \n",
    "\n",
    "You will need :\n",
    "- To store ```pi```, ```q[s,a]``` as tables and ```Returns(s,a)``` as a list of cumulative discounted rewards\n",
    "- To reset the environment for each episode. \n",
    "- To use the ```step()``` method to act on the environment \n",
    "- To update your knowledge of q on the trajectory of the episode.\n",
    "- To update the current policy given the update of q.\n"
   ]
  },
  {
   "cell_type": "code",
   "execution_count": 34,
   "metadata": {},
   "outputs": [
    {
     "name": "stdout",
     "output_type": "stream",
     "text": [
      "time: 0 ns (started: 2023-11-19 11:17:07 +01:00)\n"
     ]
    }
   ],
   "source": [
    "def transition_state(state, action):\n",
    "    result_state = np.argmax(P[state,action,:])\n",
    "    reward = r[state,action]\n",
    "    done = T[state]\n",
    "    return reward, result_state, done"
   ]
  },
  {
   "cell_type": "code",
   "execution_count": 67,
   "metadata": {},
   "outputs": [
    {
     "name": "stdout",
     "output_type": "stream",
     "text": [
      "time: 19.8 s (started: 2023-11-19 11:42:17 +01:00)\n"
     ]
    }
   ],
   "source": [
    "def monte_carlo_exploring_starts(max_episodes, max_iter, gamma):\n",
    "    policies_10_percentages = []\n",
    "    G=None\n",
    "    #initialize random policy\n",
    "    policy = np.zeros((nb_states,nb_actions))\n",
    "    policy[np.arange(nb_states),np.random.choice([0,1,2,3], nb_states)] = 1.0\n",
    "    # # initialize random policy with all actions equal\n",
    "    # policy = np.ones((nb_states,nb_actions)) / nb_actions\n",
    "    #initialize Q\n",
    "    Q = np.zeros((nb_states,nb_actions))\n",
    "    #initialize returns\n",
    "    returns = [[[] for _ in range(nb_actions)] for _ in range(nb_states)]\n",
    "    for episode in range(max_episodes):\n",
    "        #initialize random state, first action and finish episode following policy\n",
    "        state = np.random.randint(nb_states)\n",
    "        action = np.random.choice([0,1,2,3])\n",
    "        reward, result_state, done = transition_state(state, action)\n",
    "        states = [state]\n",
    "        actions = [action]\n",
    "        rewards = [reward]\n",
    "        while (not done) and (len(states) < max_iter):\n",
    "            state = result_state\n",
    "            action = np.random.choice([0,1,2,3], p=policy[state,:])\n",
    "            reward, result_state, done = transition_state(state, action)\n",
    "            states.append(state)\n",
    "            actions.append(action)\n",
    "            rewards.append(reward)\n",
    "        #calculate returns\n",
    "        G = 0\n",
    "        for t in range(len(states)-1,-1,-1):\n",
    "            G = gamma * G + rewards[t]\n",
    "            #check if state action pair has been visited before\n",
    "            if (states[t],actions[t]) not in zip(states[:t],actions[:t]):\n",
    "                returns[states[t]][actions[t]].append(G)\n",
    "                Q[states[t],actions[t]] = np.mean(returns[states[t]][actions[t]])\n",
    "                policy[states[t],:] = 0\n",
    "                policy[states[t],np.argmax(Q[states[t],:])] = 1\n",
    "        #save policy every 10% of episodes for progress tracking\n",
    "        if episode % (max_episodes//10) == 0:\n",
    "            policies_10_percentages.append(np.copy(policy))\n",
    "    return policy, Q, policies_10_percentages   \n",
    "\n",
    "max_iter = 20\n",
    "max_episodes = 10000\n",
    "gamma = 0.9\n",
    "policy, Q, policies_10 = monte_carlo_exploring_starts(max_episodes, max_iter, gamma)"
   ]
  },
  {
   "cell_type": "code",
   "execution_count": 69,
   "metadata": {},
   "outputs": [
    {
     "name": "stdout",
     "output_type": "stream",
     "text": [
      "[[1 1 1 1 2 1 2 2 1 2 1 2]\n",
      " [1 1 1 1 1 1 1 1 1 1 1 2]\n",
      " [1 0 0 0 0 1 1 1 1 0 1 2]\n",
      " [0 0 0 0 0 0 0 0 0 0 1 1]]\n",
      "time: 0 ns (started: 2023-11-19 11:42:41 +01:00)\n"
     ]
    }
   ],
   "source": [
    "print(np.argmax(policy.reshape(4,12,4), axis=2))"
   ]
  },
  {
   "cell_type": "code",
   "execution_count": 73,
   "metadata": {},
   "outputs": [
    {
     "name": "stdout",
     "output_type": "stream",
     "text": [
      "[[1 1 1 1 2 1 2 2 1 2 1 2]\n",
      " [1 1 1 1 1 1 1 1 1 1 1 2]\n",
      " [1 0 0 0 0 1 1 1 1 0 1 2]\n",
      " [0 0 0 0 0 0 0 0 0 0 1 1]]\n",
      "time: 0 ns (started: 2023-11-19 11:42:58 +01:00)\n"
     ]
    }
   ],
   "source": [
    "print(np.argmax(policies_10[9].reshape(4,12,4), axis=2))"
   ]
  },
  {
   "cell_type": "code",
   "execution_count": 63,
   "metadata": {},
   "outputs": [
    {
     "name": "stdout",
     "output_type": "stream",
     "text": [
      "[[-7.5 -7.2 -6.9 -6.5 -6.1 -5.7 -5.2 -4.8 -4.1 -3.5 -2.7 -3.5]\n",
      " [-7.8 -7.5 -7.  -6.3 -5.9 -5.4 -4.7 -4.1 -3.4 -2.8 -1.9 -2.8]\n",
      " [-7.6 -7.3 -7.  -6.7 -6.3 -6.  -5.5 -3.5 -2.7 -1.9 -1.   0. ]\n",
      " [-7.9 -7.6 -7.4 -7.1 -6.8 -8.2 -6.2 -4.5 -3.6 -4.7 -1.   0. ]]\n",
      "time: 0 ns (started: 2023-11-19 11:41:42 +01:00)\n"
     ]
    }
   ],
   "source": [
    "print(np.max(Q.reshape(4,12,4), axis=2).round(1))"
   ]
  },
  {
   "cell_type": "markdown",
   "metadata": {},
   "source": [
    "**Q.16 Visualize the obtained policy after training over some iterations and conclude**"
   ]
  },
  {
   "cell_type": "code",
   "execution_count": 81,
   "metadata": {},
   "outputs": [
    {
     "data": {
      "image/png": "[encoded data removed]",
      "text/plain": [
       "<Figure size 640x480 with 1 Axes>"
      ]
     },
     "metadata": {},
     "output_type": "display_data"
    },
    {
     "name": "stdout",
     "output_type": "stream",
     "text": [
      "time: 3.47 s (started: 2023-11-19 11:44:45 +01:00)\n"
     ]
    }
   ],
   "source": [
    "from IPython.display import clear_output\n",
    "import os\n",
    "os.environ[\"SDL_VIDEODRIVER\"] = \"dummy\"\n",
    "# visualize policy\n",
    "#current_policy = policies_10[8]\n",
    "current_policy = policy\n",
    "env = gym.make('CliffWalking-v0',render_mode='rgb_array')\n",
    "env.reset()\n",
    "for t in range(48):\n",
    "    env.render()\n",
    "    time.sleep(0.1)\n",
    "    state, reward, done, _, _ = env.step(np.argmax(current_policy[state,:]))\n",
    "    if done:\n",
    "        break\n",
    "    clear_output(wait=True)\n",
    "    plt.imshow(env.render())\n",
    "    plt.show()\n"
   ]
  },
  {
   "cell_type": "markdown",
   "metadata": {},
   "source": [
    "While not optimal, we have managed to estimate a policy that achieves our goal!"
   ]
  },
  {
   "cell_type": "markdown",
   "metadata": {},
   "source": []
  }
 ],
 "metadata": {
  "kernelspec": {
   "display_name": "Python 3 (ipykernel)",
   "language": "python",
   "name": "python3"
  },
  "language_info": {
   "codemirror_mode": {
    "name": "ipython",
    "version": 3
   },
   "file_extension": ".py",
   "mimetype": "text/x-python",
   "name": "python",
   "nbconvert_exporter": "python",
   "pygments_lexer": "ipython3",
   "version": "3.11.4"
  },
  "vscode": {
   "interpreter": {
    "hash": "6d3bda9ce93bcf6253578f72b020ff104c4a49c94ced054907684331a902bb6b"
   }
  }
 },
 "nbformat": 4,
 "nbformat_minor": 2
}
