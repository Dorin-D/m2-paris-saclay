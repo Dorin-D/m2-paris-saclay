{
 "cells": [
  {
   "cell_type": "code",
   "execution_count": 1,
   "metadata": {},
   "outputs": [],
   "source": [
    "import numpy as np\n",
    "import pandas as pd\n",
    "import matplotlib.pyplot as plt\n",
    "import seaborn as sns\n",
    "import gensim\n",
    "import fasttext\n",
    "from sklearn.manifold import TSNE"
   ]
  },
  {
   "cell_type": "code",
   "execution_count": 2,
   "metadata": {},
   "outputs": [],
   "source": [
    "LOAD_MODELS = False"
   ]
  },
  {
   "cell_type": "code",
   "execution_count": 3,
   "metadata": {},
   "outputs": [
    {
     "name": "stdout",
     "output_type": "stream",
     "text": [
      "Training W2V, CBOW, med...\n",
      "Training W2V, Skip-gram, med...\n",
      "Training W2V, CBOW, press...\n",
      "Training W2V, Skip-gram, press...\n",
      "Training FastText, med...\n"
     ]
    },
    {
     "name": "stderr",
     "output_type": "stream",
     "text": [
      "Read 0M words\n",
      "Number of words:  9105\n",
      "Number of labels: 0\n",
      "Progress: 100.1% words/sec/thread:   14945 lr: -0.000026 avg.loss:  2.765205 ETA:   0h 0m 0sh 0m 0s\r"
     ]
    },
    {
     "name": "stdout",
     "output_type": "stream",
     "text": [
      "Training FastText, press...\n"
     ]
    },
    {
     "name": "stderr",
     "output_type": "stream",
     "text": [
      "Progress: 100.0% words/sec/thread:   14943 lr:  0.000000 avg.loss:  2.765205 ETA:   0h 0m 0s\n",
      "Read 1M words\n",
      "Number of words:  39655\n",
      "Number of labels: 0\n",
      "Progress: 100.0% words/sec/thread:   17943 lr:  0.000000 avg.loss:  2.166822 ETA:   0h 0m 0s  1.3% words/sec/thread:   10562 lr:  0.049366 avg.loss:  3.816779 ETA:   0h 1m26sh 1m 5s ETA:   0h 0m50sm42s 28.5% words/sec/thread:   15419 lr:  0.035741 avg.loss:  2.238445 ETA:   0h 0m42s avg.loss:  2.239072 ETA:   0h 0m42s ETA:   0h 0m24s words/sec/thread:   16861 lr:  0.022070 avg.loss:  2.215211 ETA:   0h 0m24s lr:  0.017265 avg.loss:  2.200073 ETA:   0h 0m18s  17442 lr:  0.015811 avg.loss:  2.195061 ETA:   0h 0m16s 83.0% words/sec/thread:   17871 lr:  0.008503 avg.loss:  2.171144 ETA:   0h 0m 8s\n"
     ]
    }
   ],
   "source": [
    "if not LOAD_MODELS:\n",
    "    # W2V, CBOW, med\n",
    "    print(\"Training W2V, CBOW, med...\")\n",
    "    w2v = gensim.models.word2vec.Word2Vec(\n",
    "        corpus_file='QUAERO_FrenchMed/QUAERO_FrenchMed_traindev.ospl',\n",
    "        min_count=1,\n",
    "        sg=0\n",
    "    )\n",
    "\n",
    "    # W2V, Skip-gram, med\n",
    "    print(\"Training W2V, Skip-gram, med...\")\n",
    "    w2v_sg = gensim.models.word2vec.Word2Vec(\n",
    "        corpus_file='QUAERO_FrenchMed/QUAERO_FrenchMed_traindev.ospl',\n",
    "        min_count=1,\n",
    "        sg=1\n",
    "    )\n",
    "\n",
    "    # W2V, CBOW, press\n",
    "    print(\"Training W2V, CBOW, press...\")\n",
    "    w2v_press = gensim.models.word2vec.Word2Vec(\n",
    "        corpus_file='QUAERO_FrenchPress/QUAERO_FrenchPress_traindev.ospl',\n",
    "        min_count=1,\n",
    "        sg=0\n",
    "    )\n",
    "\n",
    "    # W2V, Skip-gram, press\n",
    "    print(\"Training W2V, Skip-gram, press...\")\n",
    "    w2v_sg_press = gensim.models.word2vec.Word2Vec(\n",
    "        corpus_file='QUAERO_FrenchPress/QUAERO_FrenchPress_traindev.ospl',\n",
    "        min_count=1,\n",
    "        sg=1\n",
    "    )\n",
    "\n",
    "    w2v.train(epochs=20, corpus_file='QUAERO_FrenchMed/QUAERO_FrenchMed_traindev.ospl', total_words=w2v.corpus_total_words)\n",
    "    w2v_sg.train(epochs=20, corpus_file='QUAERO_FrenchMed/QUAERO_FrenchMed_traindev.ospl', total_words=w2v_sg.corpus_total_words)\n",
    "    w2v_press.train(epochs=20, corpus_file='QUAERO_FrenchPress/QUAERO_FrenchPress_traindev.ospl', total_words=w2v_press.corpus_total_words)\n",
    "    w2v_sg_press.train(epochs=20, corpus_file='QUAERO_FrenchPress/QUAERO_FrenchPress_traindev.ospl', total_words=w2v_sg_press.corpus_total_words)\n",
    "\n",
    "    # FastText, med\n",
    "    print(\"Training FastText, med...\")\n",
    "    ft = fasttext.train_unsupervised(\n",
    "        input='QUAERO_FrenchMed/QUAERO_FrenchMed_traindev.ospl',\n",
    "        minCount=1\n",
    "    )\n",
    "\n",
    "    # FastText, press\n",
    "    print(\"Training FastText, press...\")\n",
    "    ft_press = fasttext.train_unsupervised(\n",
    "        input='QUAERO_FrenchPress/QUAERO_FrenchPress_traindev.ospl',\n",
    "        minCount=1\n",
    "    )\n",
    "\n",
    "\n",
    "    # save all models\n",
    "    w2v.save(\"w2v_cbow_med.model\")\n",
    "    w2v_sg.save(\"w2v_sg_med.model\")\n",
    "    w2v_press.save(\"w2v_cbow_press.model\")\n",
    "    w2v_sg_press.save(\"w2v_sg_press.model\")\n",
    "    ft.save_model(\"ft_med.bin\")\n",
    "    ft_press.save_model(\"ft_press.bin\")\n",
    "else:\n",
    "    # load all models\n",
    "    print(\"Loading models...\")\n",
    "    w2v = gensim.models.word2vec.Word2Vec.load(\"w2v_cbow_med.model\")\n",
    "    w2v_sg = gensim.models.word2vec.Word2Vec.load(\"w2v_sg_med.model\")\n",
    "    w2v_press = gensim.models.word2vec.Word2Vec.load(\"w2v_cbow_press.model\")\n",
    "    w2v_sg_press = gensim.models.word2vec.Word2Vec.load(\"w2v_sg_press.model\")\n",
    "    ft = fasttext.load_model(\"ft_med.bin\")\n",
    "    ft_press = fasttext.load_model(\"ft_press.bin\")"
   ]
  },
  {
   "cell_type": "code",
   "execution_count": 4,
   "metadata": {},
   "outputs": [],
   "source": [
    "# # visualize embeddings of w2v with t-SNE\n",
    "# print(\"Visualizing W2V, CBOW, med...\")\n",
    "# words = list(w2v.wv.index_to_key)"
   ]
  },
  {
   "cell_type": "code",
   "execution_count": 5,
   "metadata": {},
   "outputs": [],
   "source": [
    "# if LOAD_MODELS:\n",
    "#     # load X_tsne\n",
    "#     X_tsne = np.load('X_tsne.npy')\n",
    "# else:\n",
    "#     # save X_tsne to a file\n",
    "#     X = w2v.wv[w2v.wv.index_to_key]\n",
    "#     tsne = TSNE(n_components=2)\n",
    "#     X_tsne = tsne.fit_transform(X)\n",
    "#     np.save('X_tsne.npy', X_tsne)\n"
   ]
  },
  {
   "cell_type": "code",
   "execution_count": 6,
   "metadata": {},
   "outputs": [],
   "source": [
    "# #plot the embeddings interactively with plotly\n",
    "# import plotly.express as px\n",
    "# df = pd.DataFrame(X_tsne, columns=['x', 'y'])\n",
    "# df['word'] = words\n",
    "# fig = px.scatter(df, x='x', y='y', text='word')\n",
    "# fig.show()"
   ]
  },
  {
   "cell_type": "markdown",
   "metadata": {},
   "source": [
    "# Visualizing closest words"
   ]
  },
  {
   "cell_type": "code",
   "execution_count": 7,
   "metadata": {},
   "outputs": [
    {
     "name": "stderr",
     "output_type": "stream",
     "text": [
      "/tmp/ipykernel_14274/3062320745.py:2: DeprecationWarning: Call to deprecated `load_fasttext_format` (use load_facebook_vectors (to use pretrained embeddings) or load_facebook_model (to continue training with the loaded full model, more RAM) instead).\n",
      "  ft_gensim = gensim.models.fasttext.FastText.load_fasttext_format(\"ft_med.bin\")\n",
      "/tmp/ipykernel_14274/3062320745.py:3: DeprecationWarning: Call to deprecated `load_fasttext_format` (use load_facebook_vectors (to use pretrained embeddings) or load_facebook_model (to continue training with the loaded full model, more RAM) instead).\n",
      "  ft_press_gensim = gensim.models.fasttext.FastText.load_fasttext_format(\"ft_press.bin\")\n"
     ]
    }
   ],
   "source": [
    "# load the fasttext models with gensim\n",
    "ft_gensim = gensim.models.fasttext.FastText.load_fasttext_format(\"ft_med.bin\")\n",
    "ft_press_gensim = gensim.models.fasttext.FastText.load_fasttext_format(\"ft_press.bin\")"
   ]
  },
  {
   "cell_type": "code",
   "execution_count": 13,
   "metadata": {},
   "outputs": [
    {
     "data": {
      "text/html": [
       "<div>\n",
       "<style scoped>\n",
       "    .dataframe tbody tr th:only-of-type {\n",
       "        vertical-align: middle;\n",
       "    }\n",
       "\n",
       "    .dataframe tbody tr th {\n",
       "        vertical-align: top;\n",
       "    }\n",
       "\n",
       "    .dataframe thead th {\n",
       "        text-align: right;\n",
       "    }\n",
       "</style>\n",
       "<table border=\"1\" class=\"dataframe\">\n",
       "  <thead>\n",
       "    <tr style=\"text-align: right;\">\n",
       "      <th></th>\n",
       "      <th>patient</th>\n",
       "      <th>traitement</th>\n",
       "      <th>maladie</th>\n",
       "      <th>solution</th>\n",
       "      <th>jaune</th>\n",
       "    </tr>\n",
       "  </thead>\n",
       "  <tbody>\n",
       "    <tr>\n",
       "      <th>w2v_med_cbow</th>\n",
       "      <td>NaN</td>\n",
       "      <td>NaN</td>\n",
       "      <td>NaN</td>\n",
       "      <td>NaN</td>\n",
       "      <td>NaN</td>\n",
       "    </tr>\n",
       "    <tr>\n",
       "      <th>w2v_med_skipgram</th>\n",
       "      <td>NaN</td>\n",
       "      <td>NaN</td>\n",
       "      <td>NaN</td>\n",
       "      <td>NaN</td>\n",
       "      <td>NaN</td>\n",
       "    </tr>\n",
       "    <tr>\n",
       "      <th>w2v_press_cbow</th>\n",
       "      <td>NaN</td>\n",
       "      <td>NaN</td>\n",
       "      <td>NaN</td>\n",
       "      <td>NaN</td>\n",
       "      <td>NaN</td>\n",
       "    </tr>\n",
       "    <tr>\n",
       "      <th>w2v_press_skipgram</th>\n",
       "      <td>NaN</td>\n",
       "      <td>NaN</td>\n",
       "      <td>NaN</td>\n",
       "      <td>NaN</td>\n",
       "      <td>NaN</td>\n",
       "    </tr>\n",
       "    <tr>\n",
       "      <th>ft_med_cbow</th>\n",
       "      <td>NaN</td>\n",
       "      <td>NaN</td>\n",
       "      <td>NaN</td>\n",
       "      <td>NaN</td>\n",
       "      <td>NaN</td>\n",
       "    </tr>\n",
       "    <tr>\n",
       "      <th>ft_press_cbow</th>\n",
       "      <td>NaN</td>\n",
       "      <td>NaN</td>\n",
       "      <td>NaN</td>\n",
       "      <td>NaN</td>\n",
       "      <td>NaN</td>\n",
       "    </tr>\n",
       "  </tbody>\n",
       "</table>\n",
       "</div>"
      ],
      "text/plain": [
       "                   patient traitement maladie solution jaune\n",
       "w2v_med_cbow           NaN        NaN     NaN      NaN   NaN\n",
       "w2v_med_skipgram       NaN        NaN     NaN      NaN   NaN\n",
       "w2v_press_cbow         NaN        NaN     NaN      NaN   NaN\n",
       "w2v_press_skipgram     NaN        NaN     NaN      NaN   NaN\n",
       "ft_med_cbow            NaN        NaN     NaN      NaN   NaN\n",
       "ft_press_cbow          NaN        NaN     NaN      NaN   NaN"
      ]
     },
     "execution_count": 13,
     "metadata": {},
     "output_type": "execute_result"
    }
   ],
   "source": [
    "wordlist = [\"patient\", \"traitement\", \"maladie\", \"solution\", \"jaune\"]\n",
    "\n",
    "model_list = {\n",
    "    \"w2v_med_cbow\": w2v,\n",
    "    \"w2v_med_skipgram\": w2v_sg,\n",
    "    \"w2v_press_cbow\": w2v_press,\n",
    "    \"w2v_press_skipgram\": w2v_sg_press,\n",
    "    \"ft_med_cbow\": ft_gensim,\n",
    "    \"ft_press_cbow\": ft_press_gensim\n",
    "}\n",
    "\n",
    "worddataframe = pd.DataFrame(columns = wordlist, index = model_list)\n",
    "worddataframe"
   ]
  },
  {
   "cell_type": "code",
   "execution_count": 16,
   "metadata": {},
   "outputs": [],
   "source": [
    "for word in wordlist:\n",
    "    for model in model_list:\n",
    "        mostsim = model_list[model].wv.most_similar(word, topn=10)\n",
    "        #keep only the words\n",
    "        mostsim = [x[0] for x in mostsim]\n",
    "        worddataframe.at[model, word] = mostsim"
   ]
  },
  {
   "cell_type": "code",
   "execution_count": 18,
   "metadata": {},
   "outputs": [
    {
     "data": {
      "text/html": [
       "<div>\n",
       "<style scoped>\n",
       "    .dataframe tbody tr th:only-of-type {\n",
       "        vertical-align: middle;\n",
       "    }\n",
       "\n",
       "    .dataframe tbody tr th {\n",
       "        vertical-align: top;\n",
       "    }\n",
       "\n",
       "    .dataframe thead th {\n",
       "        text-align: right;\n",
       "    }\n",
       "</style>\n",
       "<table border=\"1\" class=\"dataframe\">\n",
       "  <thead>\n",
       "    <tr style=\"text-align: right;\">\n",
       "      <th></th>\n",
       "      <th>patient</th>\n",
       "      <th>traitement</th>\n",
       "      <th>maladie</th>\n",
       "      <th>solution</th>\n",
       "      <th>jaune</th>\n",
       "    </tr>\n",
       "  </thead>\n",
       "  <tbody>\n",
       "    <tr>\n",
       "      <th>w2v_med_cbow</th>\n",
       "      <td>[répondu, qui, délai, TYSABRI, ils, médicament, Tasmar, efficace, également, carte]</td>\n",
       "      <td>[VIH, risque, début, infectées, arrêt, réponse, infection, généraliste, antirétroviraux, cancer]</td>\n",
       "      <td>[Parkinson, charge, juger, infection, maintient, décision, antirétroviraux, lors, antagoniste, grossesse]</td>\n",
       "      <td>[diluer, buvable, injectable, poudre, intraveineuse, conditionnée, perfusion, préparer, contient, reconstituée]</td>\n",
       "      <td>[1981, Phosphate, Plaquettes, méthyle, disciplinaires, PELLICULES, Polysorbate, COMPRIMES, ≤, 36]</td>\n",
       "    </tr>\n",
       "    <tr>\n",
       "      <th>w2v_med_skipgram</th>\n",
       "      <td>[carte, alerte, Montrez, spéciale, atteint, avoir, montrer, déjà, minimum, aptitude]</td>\n",
       "      <td>[premiers, instauration, second, six, concomitant, cycle, contrôlée, débuter, passage, antérieur]</td>\n",
       "      <td>[Parkinson, liée, avancée, Crohn, avancé, Bourneville, Recklinghausen, leucémie, affection, coronarienne]</td>\n",
       "      <td>[buvable, diluer, réchauffer, Voie, préparée, Lepirudine, poudre, ambiante, aseptique, bolus]</td>\n",
       "      <td>[pâle, fer, orange, Polysorbate, oxyde, 15ml, Chlorure, Hydroxyde, triacétine, concentré]</td>\n",
       "    </tr>\n",
       "    <tr>\n",
       "      <th>w2v_press_cbow</th>\n",
       "      <td>[concessionnaire, rescapé, axiome, cancéreux, reversion, morceau, prononciation, déferlement, lac, boulet]</td>\n",
       "      <td>[coût, financement, système, outil, collectif, logement, sida, statut, diagnostic, jalon]</td>\n",
       "      <td>[couverture, Caisse, caisse, douleur, publicité, contamination, population, créatine, propagation, nature]</td>\n",
       "      <td>[alternative, règle, représentation, foire, formule, démarche, difficulté, firme, bataille, stratégie]</td>\n",
       "      <td>[maillot, Lachhab, endossé, Saâdoune, Trier, von, Baden, métal, emparé, Lars]</td>\n",
       "    </tr>\n",
       "    <tr>\n",
       "      <th>w2v_press_skipgram</th>\n",
       "      <td>[hospitalisé, flagrant, humble, innocente, cash, mollah, admets, révolté, soignant, Coran]</td>\n",
       "      <td>[médicamenteux, générateurs, mineur, antidouleur, anti-douleur, asservissement, détournera, réaffirmation, préconisations, subalterne]</td>\n",
       "      <td>[virale, orpheline, pneumopathie, Alzheimer, pulmonaire, neurologique, coronarovirus, assurance, atteints, vieillesse]</td>\n",
       "      <td>[pacifique, consensuelle, lancinant, garantissant, suffisante, skier, sodium, carbure, esquisse, solutions]</td>\n",
       "      <td>[maillot, emparé, Pena, pois, Baden, mouiller, lauréat, grenadine, Cooke, 390]</td>\n",
       "    </tr>\n",
       "    <tr>\n",
       "      <th>ft_med_cbow</th>\n",
       "      <td>[Patient, comment, cent, segment, présentaient, présent, présentent, ciment, Comment, pèsent]</td>\n",
       "      <td>[Taaitement, Traitement, lentement, évitement, règlement, Allaitement, jugement, avortement, hautement, traitements]</td>\n",
       "      <td>[Maladie, malade, malignité, insulinothérapie, immunothérapie, maltraitance, immunodéficience, monothérapie, corticosurrenale, cortical]</td>\n",
       "      <td>[dilution, Dissolution, évolution, evolution, Pollution, Evolution, élocution, injection, exécution, conduction]</td>\n",
       "      <td>[hirudine, titane, Lepirudine, désulfohirudine, lépirudine, toluidine, quotidienne, lamivudine, microcristalline, hydroquinone]</td>\n",
       "    </tr>\n",
       "    <tr>\n",
       "      <th>ft_press_cbow</th>\n",
       "      <td>[impatient, patientent, impatientent, quotient, abstient, détient, échoient, côtoient, obtient, oublient]</td>\n",
       "      <td>[retraitement, logement, subitement, modestement, strictement, enfermement, immodestement, dépècement, dédommagement, vêtement]</td>\n",
       "      <td>[épidémiologie, malade, virus, malnutrie, pneumopathie, génie, épidémie, médecin, pneumonie, morphine]</td>\n",
       "      <td>[dissolution, résolution, dilution, évolution, pollution, révolution, caution, résorption, abolition, exhibition]</td>\n",
       "      <td>[Jeune, Love, Messine, Pampelune, Noé, Trotski, Pilote, brune, paillote, Fleuve]</td>\n",
       "    </tr>\n",
       "  </tbody>\n",
       "</table>\n",
       "</div>"
      ],
      "text/plain": [
       "                                                                                                                       patient   \n",
       "w2v_med_cbow                               [répondu, qui, délai, TYSABRI, ils, médicament, Tasmar, efficace, également, carte]  \\\n",
       "w2v_med_skipgram                          [carte, alerte, Montrez, spéciale, atteint, avoir, montrer, déjà, minimum, aptitude]   \n",
       "w2v_press_cbow      [concessionnaire, rescapé, axiome, cancéreux, reversion, morceau, prononciation, déferlement, lac, boulet]   \n",
       "w2v_press_skipgram                  [hospitalisé, flagrant, humble, innocente, cash, mollah, admets, révolté, soignant, Coran]   \n",
       "ft_med_cbow                      [Patient, comment, cent, segment, présentaient, présent, présentent, ciment, Comment, pèsent]   \n",
       "ft_press_cbow        [impatient, patientent, impatientent, quotient, abstient, détient, échoient, côtoient, obtient, oublient]   \n",
       "\n",
       "                                                                                                                                                traitement   \n",
       "w2v_med_cbow                                              [VIH, risque, début, infectées, arrêt, réponse, infection, généraliste, antirétroviraux, cancer]  \\\n",
       "w2v_med_skipgram                                         [premiers, instauration, second, six, concomitant, cycle, contrôlée, débuter, passage, antérieur]   \n",
       "w2v_press_cbow                                                   [coût, financement, système, outil, collectif, logement, sida, statut, diagnostic, jalon]   \n",
       "w2v_press_skipgram  [médicamenteux, générateurs, mineur, antidouleur, anti-douleur, asservissement, détournera, réaffirmation, préconisations, subalterne]   \n",
       "ft_med_cbow                           [Taaitement, Traitement, lentement, évitement, règlement, Allaitement, jugement, avortement, hautement, traitements]   \n",
       "ft_press_cbow              [retraitement, logement, subitement, modestement, strictement, enfermement, immodestement, dépècement, dédommagement, vêtement]   \n",
       "\n",
       "                                                                                                                                                     maladie   \n",
       "w2v_med_cbow                                       [Parkinson, charge, juger, infection, maintient, décision, antirétroviraux, lors, antagoniste, grossesse]  \\\n",
       "w2v_med_skipgram                                   [Parkinson, liée, avancée, Crohn, avancé, Bourneville, Recklinghausen, leucémie, affection, coronarienne]   \n",
       "w2v_press_cbow                                    [couverture, Caisse, caisse, douleur, publicité, contamination, population, créatine, propagation, nature]   \n",
       "w2v_press_skipgram                    [virale, orpheline, pneumopathie, Alzheimer, pulmonaire, neurologique, coronarovirus, assurance, atteints, vieillesse]   \n",
       "ft_med_cbow         [Maladie, malade, malignité, insulinothérapie, immunothérapie, maltraitance, immunodéficience, monothérapie, corticosurrenale, cortical]   \n",
       "ft_press_cbow                                         [épidémiologie, malade, virus, malnutrie, pneumopathie, génie, épidémie, médecin, pneumonie, morphine]   \n",
       "\n",
       "                                                                                                                             solution   \n",
       "w2v_med_cbow          [diluer, buvable, injectable, poudre, intraveineuse, conditionnée, perfusion, préparer, contient, reconstituée]  \\\n",
       "w2v_med_skipgram                        [buvable, diluer, réchauffer, Voie, préparée, Lepirudine, poudre, ambiante, aseptique, bolus]   \n",
       "w2v_press_cbow                 [alternative, règle, représentation, foire, formule, démarche, difficulté, firme, bataille, stratégie]   \n",
       "w2v_press_skipgram        [pacifique, consensuelle, lancinant, garantissant, suffisante, skier, sodium, carbure, esquisse, solutions]   \n",
       "ft_med_cbow          [dilution, Dissolution, évolution, evolution, Pollution, Evolution, élocution, injection, exécution, conduction]   \n",
       "ft_press_cbow       [dissolution, résolution, dilution, évolution, pollution, révolution, caution, résorption, abolition, exhibition]   \n",
       "\n",
       "                                                                                                                                              jaune  \n",
       "w2v_med_cbow                                      [1981, Phosphate, Plaquettes, méthyle, disciplinaires, PELLICULES, Polysorbate, COMPRIMES, ≤, 36]  \n",
       "w2v_med_skipgram                                          [pâle, fer, orange, Polysorbate, oxyde, 15ml, Chlorure, Hydroxyde, triacétine, concentré]  \n",
       "w2v_press_cbow                                                        [maillot, Lachhab, endossé, Saâdoune, Trier, von, Baden, métal, emparé, Lars]  \n",
       "w2v_press_skipgram                                                   [maillot, emparé, Pena, pois, Baden, mouiller, lauréat, grenadine, Cooke, 390]  \n",
       "ft_med_cbow         [hirudine, titane, Lepirudine, désulfohirudine, lépirudine, toluidine, quotidienne, lamivudine, microcristalline, hydroquinone]  \n",
       "ft_press_cbow                                                      [Jeune, Love, Messine, Pampelune, Noé, Trotski, Pilote, brune, paillote, Fleuve]  "
      ]
     },
     "execution_count": 18,
     "metadata": {},
     "output_type": "execute_result"
    }
   ],
   "source": [
    "pd.set_option('display.max_colwidth', None)\n",
    "\n",
    "worddataframe"
   ]
  }
 ],
 "metadata": {
  "kernelspec": {
   "display_name": "Python 3",
   "language": "python",
   "name": "python3"
  },
  "language_info": {
   "codemirror_mode": {
    "name": "ipython",
    "version": 3
   },
   "file_extension": ".py",
   "mimetype": "text/x-python",
   "name": "python",
   "nbconvert_exporter": "python",
   "pygments_lexer": "ipython3",
   "version": "3.11.5"
  }
 },
 "nbformat": 4,
 "nbformat_minor": 2
}
